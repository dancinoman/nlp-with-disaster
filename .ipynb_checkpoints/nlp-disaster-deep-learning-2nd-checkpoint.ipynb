{
 "cells": [
  {
   "cell_type": "code",
   "execution_count": 258,
   "id": "e8c98607-ade6-4d21-8b1f-014aec0fef7a",
   "metadata": {},
   "outputs": [],
   "source": [
    "import pandas as pd\n",
    "import numpy as np\n",
    "\n",
    "#Tensor flow\n",
    "from tensorflow.keras.preprocessing.text import text_to_word_sequence\n",
    "from tensorflow.keras.preprocessing.text import Tokenizer\n",
    "from tensorflow.keras.preprocessing.sequence import pad_sequences\n",
    "from tensorflow.keras import regularizers, Sequential, layers\n",
    "from tensorflow.keras.layers import Embedding, LSTM, Dense, Dropout\n",
    "from tensorflow.keras.callbacks import EarlyStopping\n",
    "import keras\n",
    "import matplotlib.pyplot  as plt"
   ]
  },
  {
   "cell_type": "code",
   "execution_count": 2,
   "id": "aaa8b660-c312-42d6-8eab-d678db41691f",
   "metadata": {},
   "outputs": [],
   "source": [
    "file_submission = 'data/sample_submission.csv'\n",
    "file_train_data = 'data/train.csv'\n",
    "file_test_data = 'data/test.csv'\n",
    "df_sub = pd.read_csv(file_submission)\n",
    "df_train = pd.read_csv(file_train_data)\n",
    "df_test = pd.read_csv(file_test_data)"
   ]
  },
  {
   "cell_type": "code",
   "execution_count": 3,
   "id": "e3b9701a-4d32-455f-9ac5-8de4e16a4aeb",
   "metadata": {
    "scrolled": true
   },
   "outputs": [
    {
     "name": "stdout",
     "output_type": "stream",
     "text": [
      "<class 'pandas.core.frame.DataFrame'>\n",
      "RangeIndex: 7613 entries, 0 to 7612\n",
      "Data columns (total 5 columns):\n",
      " #   Column    Non-Null Count  Dtype \n",
      "---  ------    --------------  ----- \n",
      " 0   id        7613 non-null   int64 \n",
      " 1   keyword   7552 non-null   object\n",
      " 2   location  5080 non-null   object\n",
      " 3   text      7613 non-null   object\n",
      " 4   target    7613 non-null   int64 \n",
      "dtypes: int64(2), object(3)\n",
      "memory usage: 297.5+ KB\n"
     ]
    }
   ],
   "source": [
    "df_train.info()"
   ]
  },
  {
   "cell_type": "code",
   "execution_count": 171,
   "id": "885aded0-09e0-45cf-9f54-d26ddc61741a",
   "metadata": {},
   "outputs": [],
   "source": [
    "X = df_train['text']\n",
    "X_pred = df_test['text']\n",
    "tokenizer = Tokenizer()\n",
    "\n",
    "tokenizer.fit_on_texts(X)\n",
    "\n",
    "X_train_token = tokenizer.texts_to_sequences(X)\n",
    "X_pred_token = tokenizer.texts_to_sequences(X_pred)"
   ]
  },
  {
   "cell_type": "code",
   "execution_count": 172,
   "id": "65d99d5b-d047-4d06-a1ef-67511733d0ad",
   "metadata": {},
   "outputs": [],
   "source": [
    "def percentage_loss(token_words, padding_max)->str:\n",
    "    \"\"\"\n",
    "        Test the percentage loss after padding\n",
    "        Example: percentage_loss(X_token, 25) => 'After padding loss: 1.22%'\n",
    "    \"\"\"\n",
    "    \n",
    "    get_over_lenght = len([tok for tok in token_words if len(tok) >= padding_max])\n",
    "    percent = get_over_lenght * 100 / len(token_words)\n",
    "    \n",
    "    return f'After padding loss: {percent:.2f}%'"
   ]
  },
  {
   "cell_type": "code",
   "execution_count": 198,
   "id": "bb0a5712-e5c4-4054-8e29-2504f11f7f3c",
   "metadata": {},
   "outputs": [
    {
     "data": {
      "text/plain": [
       "'After padding loss: 0.29%'"
      ]
     },
     "execution_count": 198,
     "metadata": {},
     "output_type": "execute_result"
    }
   ],
   "source": [
    "percentage_loss(X_train_token, 30)"
   ]
  },
  {
   "cell_type": "code",
   "execution_count": 173,
   "id": "b56c58dd-ee1a-483f-a092-a87b1c448385",
   "metadata": {},
   "outputs": [
    {
     "data": {
      "image/png": "[encoded data removed]",
      "text/plain": [
       "<Figure size 640x480 with 1 Axes>"
      ]
     },
     "metadata": {},
     "output_type": "display_data"
    }
   ],
   "source": [
    "# Check the relevance of padding trading off performance\n",
    "\n",
    "#Sort by ascending to make a smother graphs\n",
    "X_sort = sorted(X_train_token, key=lambda x: len(x))\n",
    "plt.bar(x= np.arange(1, len(X_sort) + 1), height=[len(num) for num in X_sort], width=1)\n",
    "plt.title('Pre padding picture')\n",
    "plt.ylabel('Token lenght')\n",
    "plt.show();"
   ]
  },
  {
   "cell_type": "code",
   "execution_count": 324,
   "id": "107a7b88-257e-4d22-8473-be2b41d2e640",
   "metadata": {},
   "outputs": [
    {
     "name": "stdout",
     "output_type": "stream",
     "text": [
      "The X train length is 5330 vs X validation is 2283\n"
     ]
    }
   ],
   "source": [
    "# Cut percentage of train vs validation\n",
    "percentage_cut = 30\n",
    "cut_test = len(df_train) * percentage_cut // 100\n",
    "cut_train = len(df_train) - cut_test\n",
    "\n",
    "# Padding words and cut the train vs validation set\n",
    "X_train_pad = pad_sequences(X_train_token, dtype='float32', padding='pre', maxlen=30)\n",
    "X_pred_pad = pad_sequences(X_pred_token, dtype='float32', padding='pre')\n",
    "\n",
    "X_train_pad = X_train_pad[:cut_train]\n",
    "X_val_pad = X_train_pad[-cut_test:]\n",
    "\n",
    "y_train = df_train['target'][:cut_train]\n",
    "y_val = df_train['target'][-cut_test:]\n",
    "print(f'The X train length is {len(X_train_pad)} vs X validation is {len(X_val_pad)}')"
   ]
  },
  {
   "cell_type": "code",
   "execution_count": 325,
   "id": "5d9d228c-46e9-4e40-a09f-7b6a42a4331a",
   "metadata": {},
   "outputs": [],
   "source": [
    "# Initialize model and define vocabulary size\n",
    "vocab_size = len(tokenizer.word_index)\n",
    "\n",
    "def initialize_model():\n",
    "\n",
    "    model = Sequential()\n",
    "    \n",
    "    model.add(layers.Embedding(\n",
    "        input_dim= vocab_size + 1,\n",
    "        input_length= 30, \n",
    "        output_dim = 30,\n",
    "        #embeddings_regularizer= regularizers.l1(0.001),\n",
    "        #activity_regularizer= regularizers.l2(0.01),\n",
    "        mask_zero = True\n",
    "    ))\n",
    "    model.add(Dropout(0.3))\n",
    "    model.add(LSTM(32))\n",
    "    model.add(Dropout(0.3))\n",
    "    model.add(Dense(1, activation='sigmoid'))\n",
    "   \n",
    "    optimizer = keras.optimizers.Adam(learning_rate=0.01)\n",
    "    model.compile(loss='binary_crossentropy', optimizer=optimizer, metrics=['accuracy'])\n",
    "    \n",
    "    return model"
   ]
  },
  {
   "cell_type": "code",
   "execution_count": 326,
   "id": "abe64c93-90ae-4b1c-882f-a78b7a5ba219",
   "metadata": {},
   "outputs": [
    {
     "name": "stdout",
     "output_type": "stream",
     "text": [
      "Model: \"sequential_56\"\n",
      "_________________________________________________________________\n",
      " Layer (type)                Output Shape              Param #   \n",
      "=================================================================\n",
      " embedding_50 (Embedding)    (None, 30, 30)            681030    \n",
      "                                                                 \n",
      " dropout_50 (Dropout)        (None, 30, 30)            0         \n",
      "                                                                 \n",
      " lstm_45 (LSTM)              (None, 32)                8064      \n",
      "                                                                 \n",
      " dropout_51 (Dropout)        (None, 32)                0         \n",
      "                                                                 \n",
      " dense_54 (Dense)            (None, 1)                 33        \n",
      "                                                                 \n",
      "=================================================================\n",
      "Total params: 689127 (2.63 MB)\n",
      "Trainable params: 689127 (2.63 MB)\n",
      "Non-trainable params: 0 (0.00 Byte)\n",
      "_________________________________________________________________\n"
     ]
    }
   ],
   "source": [
    "model = initialize_model()\n",
    "model.summary()"
   ]
  },
  {
   "cell_type": "code",
   "execution_count": 327,
   "id": "d304dc03-9115-498d-abd0-02b8fe7825a5",
   "metadata": {},
   "outputs": [
    {
     "name": "stdout",
     "output_type": "stream",
     "text": [
      "Epoch 1/20\n",
      "42/42 [==============================] - 13s 242ms/step - loss: 0.5491 - accuracy: 0.7191 - val_loss: 1.0754 - val_accuracy: 0.5423\n",
      "Epoch 2/20\n",
      "42/42 [==============================] - 9s 204ms/step - loss: 0.2505 - accuracy: 0.9101 - val_loss: 1.7630 - val_accuracy: 0.5375\n",
      "Epoch 3/20\n",
      "42/42 [==============================] - 8s 196ms/step - loss: 0.1011 - accuracy: 0.9653 - val_loss: 2.5614 - val_accuracy: 0.5322\n",
      "Epoch 4/20\n",
      "42/42 [==============================] - 8s 189ms/step - loss: 0.0472 - accuracy: 0.9871 - val_loss: 2.9422 - val_accuracy: 0.5322\n",
      "Epoch 5/20\n",
      "42/42 [==============================] - 8s 191ms/step - loss: 0.0294 - accuracy: 0.9914 - val_loss: 3.2131 - val_accuracy: 0.5344\n",
      "Epoch 6/20\n",
      "42/42 [==============================] - 8s 183ms/step - loss: 0.0220 - accuracy: 0.9919 - val_loss: 3.3399 - val_accuracy: 0.5339\n"
     ]
    }
   ],
   "source": [
    "from tensorflow.keras.callbacks import ReduceLROnPlateau\n",
    "\n",
    "reduce_lr = ReduceLROnPlateau(monitor='val_loss', factor=0.2, patience=1, min_lr=0.0003)\n",
    "es = EarlyStopping(monitor='val_accuracy', patience=5, restore_best_weights=True)\n",
    "\n",
    "history = model.fit(\n",
    "    X_train_pad, \n",
    "    y_train, \n",
    "    batch_size=128, \n",
    "    epochs=20, \n",
    "    validation_data=(X_val_pad, y_val),\n",
    "    callbacks = [es])"
   ]
  },
  {
   "cell_type": "code",
   "execution_count": 328,
   "id": "f2ba6167-de46-47d8-b5aa-295ea78516e0",
   "metadata": {},
   "outputs": [
    {
     "name": "stdout",
     "output_type": "stream",
     "text": [
      "102/102 [==============================] - 4s 36ms/step\n"
     ]
    }
   ],
   "source": [
    "pred_res = model.predict(X_pred_pad)"
   ]
  },
  {
   "cell_type": "code",
   "execution_count": 329,
   "id": "191fb621-ba2e-4d2d-b8d7-8f267024ffad",
   "metadata": {},
   "outputs": [
    {
     "data": {
      "text/plain": [
       "<BarContainer object of 3263 artists>"
      ]
     },
     "execution_count": 329,
     "metadata": {},
     "output_type": "execute_result"
    },
    {
     "data": {
      "image/png": "[encoded data removed]",
      "text/plain": [
       "<Figure size 640x480 with 1 Axes>"
      ]
     },
     "metadata": {},
     "output_type": "display_data"
    }
   ],
   "source": [
    "plt.bar(x= np.arange(1, len(pred_res) + 1), height= [float(res) for res in pred_res], width=1)"
   ]
  },
  {
   "cell_type": "code",
   "execution_count": 330,
   "id": "59a20105-aa64-460e-9d37-31f5d17d5fba",
   "metadata": {},
   "outputs": [],
   "source": [
    "# Extract the loss and accuracy from the history\n",
    "train_loss = history.history['loss']\n",
    "val_loss = history.history['val_loss']\n",
    "train_accuracy = history.history['accuracy']\n",
    "val_accuracy = history.history['val_accuracy']\n"
   ]
  },
  {
   "cell_type": "code",
   "execution_count": 331,
   "id": "b9a82cc0-7a77-4810-a7b4-e5325d686213",
   "metadata": {
    "scrolled": true
   },
   "outputs": [
    {
     "data": {
      "image/png": "[encoded data removed]",
      "text/plain": [
       "<Figure size 700x300 with 2 Axes>"
      ]
     },
     "metadata": {},
     "output_type": "display_data"
    }
   ],
   "source": [
    "epochs = range(1, len(train_loss) + 1)\n",
    "\n",
    "# Plot training & validation loss values\n",
    "plt.figure(figsize=(7, 3))\n",
    "\n",
    "plt.subplot(1, 2, 1)\n",
    "plt.plot(epochs, train_loss, 'bo-', label='Training Loss')\n",
    "plt.plot(epochs, val_loss, 'ro-', label='Validation Loss')\n",
    "plt.title('Training and Validation Loss')\n",
    "plt.xlabel('Epochs')\n",
    "plt.ylabel('Loss')\n",
    "plt.legend()\n",
    "\n",
    "# Plot training & validation accuracy values\n",
    "plt.subplot(1, 2, 2)\n",
    "plt.plot(epochs, train_accuracy, 'bo-', label='Training Accuracy')\n",
    "plt.plot(epochs, val_accuracy, 'ro-', label='Validation Accuracy')\n",
    "plt.title('Training and Validation Accuracy')\n",
    "plt.xlabel('Epochs')\n",
    "plt.ylabel('Accuracy')\n",
    "plt.legend()\n",
    "\n",
    "plt.tight_layout()\n",
    "plt.show()\n"
   ]
  },
  {
   "cell_type": "code",
   "execution_count": 332,
   "id": "cf6c68c0-fa76-438e-8224-9e59c7d4e6e3",
   "metadata": {},
   "outputs": [],
   "source": [
    "# map_res = [1 if x > 0.5 else 0 for x in pred_res ]\n",
    "\n",
    "# df_test['target'] = map_res\n",
    "# df_submit = df_test[['id','target']]\n",
    "# df_submit.to_csv('data/submit_15_08_24.csv', index= False)\n",
    "\n",
    "# pd.read_csv('data/submit_15_08_24.csv')"
   ]
  },
  {
   "cell_type": "code",
   "execution_count": 333,
   "id": "8309ab5e-2c83-4653-98e4-32e44402e9a3",
   "metadata": {},
   "outputs": [],
   "source": [
    "# Score was 0.7744"
   ]
  },
  {
   "cell_type": "code",
   "execution_count": 334,
   "id": "04c3cd15-05c0-4a61-bfb5-ec542b1e5380",
   "metadata": {},
   "outputs": [
    {
     "data": {
      "text/plain": [
       "'Drop out on early process change the loss training at the end'"
      ]
     },
     "execution_count": 334,
     "metadata": {},
     "output_type": "execute_result"
    }
   ],
   "source": [
    "\"\"\"Drop out on early process change the loss training at the end\"\"\""
   ]
  }
 ],
 "metadata": {
  "kernelspec": {
   "display_name": "Python 3 (ipykernel)",
   "language": "python",
   "name": "python3"
  },
  "language_info": {
   "codemirror_mode": {
    "name": "ipython",
    "version": 3
   },
   "file_extension": ".py",
   "mimetype": "text/x-python",
   "name": "python",
   "nbconvert_exporter": "python",
   "pygments_lexer": "ipython3",
   "version": "3.10.6"
  }
 },
 "nbformat": 4,
 "nbformat_minor": 5
}
