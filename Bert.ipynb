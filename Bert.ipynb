{
  "cells": [
    {
      "cell_type": "code",
      "execution_count": 20,
      "id": "3ae37478-a21e-4af9-99a7-c0d53b1fd812",
      "metadata": {
        "id": "3ae37478-a21e-4af9-99a7-c0d53b1fd812"
      },
      "outputs": [],
      "source": [
        "import pandas as pd\n",
        "import os\n",
        "from sklearn.model_selection import train_test_split\n",
        "\n",
        "os.environ[\"PYTORCH_CUDA_ALLOC_CONF\"] = 'max_split_size_mb:512'\n",
        "# Load the data set\n",
        "file_loc_train = 'sample_data/train.csv'\n",
        "file_loc_test = 'sample_data/test.csv'\n",
        "df = pd.read_csv(file_loc_train)\n",
        "df_test = pd.read_csv(file_loc_test)\n",
        "\n",
        "# Split the data into training and validation sets\n",
        "train_df, val_df = train_test_split(df, test_size=0.2, random_state=42)"
      ]
    },
    {
      "cell_type": "code",
      "execution_count": 21,
      "id": "f4568bb8-915d-4f85-bce5-4da6dd6fecae",
      "metadata": {
        "colab": {
          "base_uri": "https://localhost:8080/"
        },
        "id": "f4568bb8-915d-4f85-bce5-4da6dd6fecae",
        "outputId": "508bbe0e-2d96-4ff6-bec8-5a90e719f87d"
      },
      "outputs": [
        {
          "output_type": "stream",
          "name": "stderr",
          "text": [
            "/usr/local/lib/python3.10/dist-packages/transformers/tokenization_utils_base.py:1601: FutureWarning: `clean_up_tokenization_spaces` was not set. It will be set to `True` by default. This behavior will be depracted in transformers v4.45, and will be then set to `False` by default. For more details check this issue: https://github.com/huggingface/transformers/issues/31884\n",
            "  warnings.warn(\n"
          ]
        }
      ],
      "source": [
        "from transformers import BertTokenizer\n",
        "\n",
        "# Load the BERT tokenizer\n",
        "tokenizer = BertTokenizer.from_pretrained('bert-base-uncased')\n",
        "\n",
        "# Tokenize the data\n",
        "def tokenize_data(df, tokenizer, max_length=128):\n",
        "    return tokenizer(\n",
        "        df['text'].tolist(),\n",
        "        padding=True,\n",
        "        truncation=True,\n",
        "        max_length=max_length,\n",
        "        return_tensors='pt'\n",
        "    )\n",
        "\n",
        "train_encodings = tokenize_data(train_df, tokenizer)\n",
        "val_encodings = tokenize_data(val_df, tokenizer)"
      ]
    },
    {
      "cell_type": "code",
      "execution_count": 22,
      "id": "e0a9d812-118d-4318-baa9-30616e6b8d85",
      "metadata": {
        "id": "e0a9d812-118d-4318-baa9-30616e6b8d85"
      },
      "outputs": [],
      "source": [
        "import torch\n",
        "from torch.utils.data import Dataset\n",
        "\n",
        "class DisasterDataset(Dataset):\n",
        "    def __init__(self, encodings, labels):\n",
        "        self.encodings = encodings\n",
        "        self.labels = labels\n",
        "\n",
        "    def __len__(self):\n",
        "        return len(self.labels)\n",
        "\n",
        "    def __getitem__(self, idx):\n",
        "        item = {key: torch.tensor(val[idx]) for key, val in self.encodings.items()}\n",
        "        item['labels'] = torch.tensor(self.labels[idx])\n",
        "        return item\n",
        "\n",
        "# Convert labels to a tensor\n",
        "train_labels = torch.tensor(train_df['target'].tolist())\n",
        "val_labels = torch.tensor(val_df['target'].tolist())\n",
        "\n",
        "# Create datasets\n",
        "train_dataset = DisasterDataset(train_encodings, train_labels)\n",
        "val_dataset = DisasterDataset(val_encodings, val_labels)"
      ]
    },
    {
      "cell_type": "code",
      "execution_count": 23,
      "id": "efe3d7ab-ac3e-4841-8013-c9cc2ee2a16a",
      "metadata": {
        "colab": {
          "base_uri": "https://localhost:8080/"
        },
        "id": "efe3d7ab-ac3e-4841-8013-c9cc2ee2a16a",
        "outputId": "3b9a462d-eca2-4c14-b7ad-244c341acf78"
      },
      "outputs": [
        {
          "output_type": "stream",
          "name": "stderr",
          "text": [
            "Some weights of BertForSequenceClassification were not initialized from the model checkpoint at bert-base-uncased and are newly initialized: ['classifier.bias', 'classifier.weight']\n",
            "You should probably TRAIN this model on a down-stream task to be able to use it for predictions and inference.\n"
          ]
        }
      ],
      "source": [
        "from transformers import BertForSequenceClassification, Trainer, TrainingArguments\n",
        "\n",
        "# Load the BERT model for sequence classification\n",
        "model = BertForSequenceClassification.from_pretrained('bert-base-uncased', num_labels=2)"
      ]
    },
    {
      "cell_type": "code",
      "execution_count": null,
      "id": "0d66d6b8-2571-4382-a17b-703de1fb6515",
      "metadata": {
        "colab": {
          "base_uri": "https://localhost:8080/",
          "height": 205
        },
        "id": "0d66d6b8-2571-4382-a17b-703de1fb6515",
        "outputId": "b970dbd3-23f5-4013-f400-c93df464e074"
      },
      "outputs": [
        {
          "output_type": "stream",
          "name": "stderr",
          "text": [
            "/usr/local/lib/python3.10/dist-packages/transformers/training_args.py:1525: FutureWarning: `evaluation_strategy` is deprecated and will be removed in version 4.46 of 🤗 Transformers. Use `eval_strategy` instead\n",
            "  warnings.warn(\n",
            "<ipython-input-22-943f00ac1934>:13: UserWarning: To copy construct from a tensor, it is recommended to use sourceTensor.clone().detach() or sourceTensor.clone().detach().requires_grad_(True), rather than torch.tensor(sourceTensor).\n",
            "  item = {key: torch.tensor(val[idx]) for key, val in self.encodings.items()}\n",
            "<ipython-input-22-943f00ac1934>:14: UserWarning: To copy construct from a tensor, it is recommended to use sourceTensor.clone().detach() or sourceTensor.clone().detach().requires_grad_(True), rather than torch.tensor(sourceTensor).\n",
            "  item['labels'] = torch.tensor(self.labels[idx])\n"
          ]
        },
        {
          "output_type": "display_data",
          "data": {
            "text/plain": [
              "<IPython.core.display.HTML object>"
            ],
            "text/html": [
              "\n",
              "    <div>\n",
              "      \n",
              "      <progress value='205' max='762' style='width:300px; height:20px; vertical-align: middle;'></progress>\n",
              "      [205/762 01:06 < 03:03, 3.04 it/s, Epoch 0.80/3]\n",
              "    </div>\n",
              "    <table border=\"1\" class=\"dataframe\">\n",
              "  <thead>\n",
              " <tr style=\"text-align: left;\">\n",
              "      <th>Epoch</th>\n",
              "      <th>Training Loss</th>\n",
              "      <th>Validation Loss</th>\n",
              "    </tr>\n",
              "  </thead>\n",
              "  <tbody>\n",
              "  </tbody>\n",
              "</table><p>"
            ]
          },
          "metadata": {}
        }
      ],
      "source": [
        "# Define the training arguments\n",
        "training_args = TrainingArguments(\n",
        "    output_dir='./results',\n",
        "    num_train_epochs=3,\n",
        "    per_device_train_batch_size=24,\n",
        "    per_device_eval_batch_size=24,\n",
        "    warmup_steps=500,\n",
        "    weight_decay=0.01,\n",
        "    logging_dir='./logs',\n",
        "    logging_steps=10,\n",
        "    evaluation_strategy=\"epoch\"\n",
        ")\n",
        "\n",
        "# Initialize the Trainer\n",
        "trainer = Trainer(\n",
        "    model=model,\n",
        "    args=training_args,\n",
        "    train_dataset=train_dataset,\n",
        "    eval_dataset=val_dataset\n",
        ")\n",
        "\n",
        "# Train the model\n",
        "trainer.train()"
      ]
    },
    {
      "cell_type": "code",
      "execution_count": null,
      "id": "fb75c6ce-8fae-4ddf-80a6-474d23f9fa46",
      "metadata": {
        "scrolled": true,
        "id": "fb75c6ce-8fae-4ddf-80a6-474d23f9fa46"
      },
      "outputs": [],
      "source": [
        "eval_results = trainer.evaluate()\n",
        "#print(f\"Validation Accuracy: {eval_results['eval_accuracy']}\")\n",
        "eval_results"
      ]
    },
    {
      "cell_type": "code",
      "execution_count": null,
      "id": "03964bd0-8e4f-44f1-acf7-2f6b6b603620",
      "metadata": {
        "id": "03964bd0-8e4f-44f1-acf7-2f6b6b603620"
      },
      "outputs": [],
      "source": [
        "test = list(df_test['text'])\n",
        "test_encodings = tokenizer(test, padding=True, truncation=True, max_length=128, return_tensors='pt')\n",
        "\n",
        "# Model prediction\n",
        "outputs = model(**test_encodings)\n",
        "predictions = torch.argmax(outputs.logits, dim=1)\n",
        "\n",
        "# Output prediction results\n",
        "print(predictions)"
      ]
    },
    {
      "cell_type": "code",
      "source": [
        "device = torch.device('cuda') if torch.cuda.is_available() else torch.device('cpu')\n",
        "torch.cuda.is_available()"
      ],
      "metadata": {
        "id": "oSrZCZTtM4Mr"
      },
      "id": "oSrZCZTtM4Mr",
      "execution_count": null,
      "outputs": []
    },
    {
      "cell_type": "code",
      "execution_count": null,
      "id": "bbf22219-9f37-499f-8220-87e53808084a",
      "metadata": {
        "id": "bbf22219-9f37-499f-8220-87e53808084a"
      },
      "outputs": [],
      "source": [
        "# Check if GPU is available\n",
        "device = torch.device('cuda') if torch.cuda.is_available() else torch.device('cpu')\n",
        "\n",
        "# Move the model to the appropriate device\n",
        "model.to(device)\n",
        "\n",
        "# Tokenize the test data\n",
        "test = list(df_test['text'])\n",
        "test_encodings = tokenizer(test, padding=True, truncation=True, max_length=128, return_tensors='pt')\n",
        "\n",
        "# Move the input tensors to the same device as the model\n",
        "test_encodings = {key: val.to(device) for key, val in test_encodings.items()}\n",
        "\n",
        "# Model prediction\n",
        "outputs = model(**test_encodings)\n",
        "\n",
        "# Get the predicted classes\n",
        "predictions = torch.argmax(outputs.logits, dim=1)\n",
        "\n",
        "# Output prediction results\n",
        "print(predictions)"
      ]
    },
    {
      "cell_type": "code",
      "source": [
        "# Check if GPU is available\n",
        "device = torch.device('cuda') if torch.cuda.is_available() else torch.device('cpu')\n",
        "\n",
        "# Move the model to the appropriate device\n",
        "model.to(device)\n",
        "\n",
        "# Tokenize the test data in batches to reduce memory usage\n",
        "batch_size = 16 # Experiment with different batch sizes\n",
        "predictions = []\n",
        "for i in range(0, len(df_test['text']), batch_size):\n",
        "    test_batch = list(df_test['text'][i:i+batch_size])\n",
        "    test_encodings = tokenizer(test_batch, padding=True, truncation=True, max_length=128, return_tensors='pt')\n",
        "\n",
        "    # Move the input tensors to the same device as the model\n",
        "    test_encodings = {key: val.to(device) for key, val in test_encodings.items()}\n",
        "\n",
        "    # Model prediction\n",
        "    with torch.no_grad(): # Use torch.no_grad() to reduce memory usage during inference\n",
        "        outputs = model(**test_encodings)\n",
        "\n",
        "    # Get the predicted classes\n",
        "    batch_predictions = torch.argmax(outputs.logits, dim=1)\n",
        "    predictions.extend(batch_predictions.cpu().numpy()) # Move predictions to CPU and convert to numpy array\n",
        "\n",
        "# Output prediction results\n",
        "print(predictions)"
      ],
      "metadata": {
        "id": "5T4MaWPzN8ou"
      },
      "id": "5T4MaWPzN8ou",
      "execution_count": null,
      "outputs": []
    },
    {
      "cell_type": "code",
      "execution_count": null,
      "id": "132f0838-05fb-43fb-ad37-d6cc5d4b0c44",
      "metadata": {
        "id": "132f0838-05fb-43fb-ad37-d6cc5d4b0c44"
      },
      "outputs": [],
      "source": [
        "\"\"\"with batch = 8 eval_loss': 0.6313741207122803\n",
        "   with batch = 16 eval_loss': 0.5087562203407288\"\"\""
      ]
    }
  ],
  "metadata": {
    "kernelspec": {
      "display_name": "Python 3",
      "name": "python3"
    },
    "language_info": {
      "codemirror_mode": {
        "name": "ipython",
        "version": 3
      },
      "file_extension": ".py",
      "mimetype": "text/x-python",
      "name": "python",
      "nbconvert_exporter": "python",
      "pygments_lexer": "ipython3",
      "version": "3.10.6"
    },
    "colab": {
      "provenance": [],
      "gpuType": "T4"
    },
    "accelerator": "GPU"
  },
  "nbformat": 4,
  "nbformat_minor": 5
}