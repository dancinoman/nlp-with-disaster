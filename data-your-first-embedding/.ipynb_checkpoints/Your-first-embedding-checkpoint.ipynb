{
 "cells": [
  {
   "cell_type": "markdown",
   "metadata": {},
   "source": [
    "# Your first embedding"
   ]
  },
  {
   "cell_type": "markdown",
   "metadata": {},
   "source": [
    "## Exercise objectives:"
   ]
  },
  {
   "cell_type": "markdown",
   "metadata": {},
   "source": [
    "- Run your first RNN for NLP\n",
    "- Get a first taste of what an embedding is\n",
    "\n",
    "<hr>\n",
    "\n",
    "Words are not something you can easily feed to a Neural Network. For this reason, we have to convert them to something more meaningful. \n",
    "\n",
    "And this is exactly what _Embeddings_ are for! They map any word onto a vectorial representation (this a fancy way to represent each word with a vector ;) ). For instance, the word `dog` can be represented by the vector $(w_1, w_2, ..., w_n)$ in the embedding space, and we will learn the weights $(w_k)_k$.\n",
    "\n",
    "So let's just do it."
   ]
  },
  {
   "cell_type": "code",
   "execution_count": 1,
   "metadata": {
    "scrolled": true
   },
   "outputs": [
    {
     "name": "stdout",
     "output_type": "stream",
     "text": [
      "Requirement already satisfied: tensorflow-datasets in /home/dancinoman/.pyenv/versions/3.10.6/envs/lewagon/lib/python3.10/site-packages (4.6.0)\n",
      "Requirement already satisfied: absl-py in /home/dancinoman/.pyenv/versions/3.10.6/envs/lewagon/lib/python3.10/site-packages (from tensorflow-datasets) (1.3.0)\n",
      "Requirement already satisfied: dill in /home/dancinoman/.pyenv/versions/3.10.6/envs/lewagon/lib/python3.10/site-packages (from tensorflow-datasets) (0.3.6)\n",
      "Requirement already satisfied: etils[epath] in /home/dancinoman/.pyenv/versions/3.10.6/envs/lewagon/lib/python3.10/site-packages (from tensorflow-datasets) (0.8.0)\n",
      "Requirement already satisfied: numpy in /home/dancinoman/.pyenv/versions/3.10.6/envs/lewagon/lib/python3.10/site-packages (from tensorflow-datasets) (1.26.4)\n",
      "Requirement already satisfied: promise in /home/dancinoman/.pyenv/versions/3.10.6/envs/lewagon/lib/python3.10/site-packages (from tensorflow-datasets) (2.3)\n",
      "Requirement already satisfied: protobuf>=3.12.2 in /home/dancinoman/.pyenv/versions/3.10.6/envs/lewagon/lib/python3.10/site-packages (from tensorflow-datasets) (4.25.3)\n",
      "Requirement already satisfied: requests>=2.19.0 in /home/dancinoman/.pyenv/versions/3.10.6/envs/lewagon/lib/python3.10/site-packages (from tensorflow-datasets) (2.28.1)\n",
      "Requirement already satisfied: six in /home/dancinoman/.pyenv/versions/3.10.6/envs/lewagon/lib/python3.10/site-packages (from tensorflow-datasets) (1.16.0)\n",
      "Requirement already satisfied: tensorflow-metadata in /home/dancinoman/.pyenv/versions/3.10.6/envs/lewagon/lib/python3.10/site-packages (from tensorflow-datasets) (1.10.0)\n",
      "Requirement already satisfied: termcolor in /home/dancinoman/.pyenv/versions/3.10.6/envs/lewagon/lib/python3.10/site-packages (from tensorflow-datasets) (2.4.0)\n",
      "Requirement already satisfied: toml in /home/dancinoman/.pyenv/versions/3.10.6/envs/lewagon/lib/python3.10/site-packages (from tensorflow-datasets) (0.10.2)\n",
      "Requirement already satisfied: tqdm in /home/dancinoman/.pyenv/versions/3.10.6/envs/lewagon/lib/python3.10/site-packages (from tensorflow-datasets) (4.64.1)\n",
      "Requirement already satisfied: charset-normalizer<3,>=2 in /home/dancinoman/.pyenv/versions/3.10.6/envs/lewagon/lib/python3.10/site-packages (from requests>=2.19.0->tensorflow-datasets) (2.1.1)\n",
      "Requirement already satisfied: idna<4,>=2.5 in /home/dancinoman/.pyenv/versions/3.10.6/envs/lewagon/lib/python3.10/site-packages (from requests>=2.19.0->tensorflow-datasets) (3.4)\n",
      "Requirement already satisfied: urllib3<1.27,>=1.21.1 in /home/dancinoman/.pyenv/versions/3.10.6/envs/lewagon/lib/python3.10/site-packages (from requests>=2.19.0->tensorflow-datasets) (1.26.12)\n",
      "Requirement already satisfied: certifi>=2017.4.17 in /home/dancinoman/.pyenv/versions/3.10.6/envs/lewagon/lib/python3.10/site-packages (from requests>=2.19.0->tensorflow-datasets) (2022.9.24)\n",
      "Requirement already satisfied: importlib_resources in /home/dancinoman/.pyenv/versions/3.10.6/envs/lewagon/lib/python3.10/site-packages (from etils[epath]->tensorflow-datasets) (5.10.0)\n",
      "Requirement already satisfied: typing_extensions in /home/dancinoman/.pyenv/versions/3.10.6/envs/lewagon/lib/python3.10/site-packages (from etils[epath]->tensorflow-datasets) (4.11.0)\n",
      "Requirement already satisfied: zipp in /home/dancinoman/.pyenv/versions/3.10.6/envs/lewagon/lib/python3.10/site-packages (from etils[epath]->tensorflow-datasets) (3.10.0)\n",
      "Requirement already satisfied: googleapis-common-protos<2,>=1.52.0 in /home/dancinoman/.pyenv/versions/3.10.6/envs/lewagon/lib/python3.10/site-packages (from tensorflow-metadata->tensorflow-datasets) (1.56.4)\n",
      "Collecting protobuf>=3.12.2 (from tensorflow-datasets)\n",
      "  Downloading protobuf-3.20.3-cp310-cp310-manylinux_2_12_x86_64.manylinux2010_x86_64.whl.metadata (679 bytes)\n",
      "Downloading protobuf-3.20.3-cp310-cp310-manylinux_2_12_x86_64.manylinux2010_x86_64.whl (1.1 MB)\n",
      "\u001b[2K   \u001b[90m━━━━━━━━━━━━━━━━━━━━━━━━━━━━━━━━━━━━━━━━\u001b[0m \u001b[32m1.1/1.1 MB\u001b[0m \u001b[31m6.7 MB/s\u001b[0m eta \u001b[36m0:00:00\u001b[0ma \u001b[36m0:00:01\u001b[0m\n",
      "\u001b[?25hInstalling collected packages: protobuf\n",
      "  Attempting uninstall: protobuf\n",
      "    Found existing installation: protobuf 4.25.3\n",
      "    Uninstalling protobuf-4.25.3:\n",
      "      Successfully uninstalled protobuf-4.25.3\n",
      "Successfully installed protobuf-3.20.3\n"
     ]
    }
   ],
   "source": [
    "! pip install tensorflow-datasets"
   ]
  },
  {
   "cell_type": "markdown",
   "metadata": {},
   "source": [
    "# The data"
   ]
  },
  {
   "cell_type": "markdown",
   "metadata": {},
   "source": [
    "❓ **Question** ❓ Let's first load the data. You don't have to understand what is going on in the function, it does not matter here.\n",
    "\n",
    "⚠️ **Warning** ⚠️ The `load_data` function has a `percentage_of_sentences` argument. Depending on your computer, there are chances that too many sentences will make your compute slow down, or even freeze - your RAM can overflow. For that reason, **you should start with 10% of the sentences** and see if your computer handles it. Otherwise, rerun with a lower number. \n",
    "\n",
    "⚠️ **DISCLAIMER** ⚠️ **No need to play _who has the biggest_ (RAM) !** The idea is to get to run your models quickly to prototype. Even in real life, it is recommended that you start with a subset of your data to loop and debug quickly. So increase the number only if you are into getting the best accuracy. "
   ]
  },
  {
   "cell_type": "code",
   "execution_count": 46,
   "metadata": {},
   "outputs": [],
   "source": [
    "import numpy as np"
   ]
  },
  {
   "cell_type": "code",
   "execution_count": 79,
   "metadata": {},
   "outputs": [],
   "source": [
    "###########################################\n",
    "### Just run this cell to load the data ###\n",
    "###########################################\n",
    "\n",
    "import tensorflow_datasets as tfds\n",
    "from tensorflow.keras.preprocessing.text import text_to_word_sequence\n",
    "\n",
    "def load_data(percentage_of_sentences=None):\n",
    "    train_data, test_data = tfds.load(name=\"imdb_reviews\", split=[\"train\", \"test\"], batch_size=-1, as_supervised=True)\n",
    "\n",
    "    train_sentences, y_train = tfds.as_numpy(train_data)\n",
    "    test_sentences, y_test = tfds.as_numpy(test_data)\n",
    "    \n",
    "    # Take only a given percentage of the entire data\n",
    "    if percentage_of_sentences is not None:\n",
    "        assert(percentage_of_sentences> 0 and percentage_of_sentences<=100)\n",
    "        \n",
    "        len_train = int(percentage_of_sentences/100*len(train_sentences))\n",
    "        train_sentences, y_train = train_sentences[:len_train], y_train[:len_train]\n",
    "  \n",
    "        len_test = int(percentage_of_sentences/100*len(test_sentences))\n",
    "        test_sentences, y_test = test_sentences[:len_test], y_test[:len_test]\n",
    "    \n",
    "    X_train = [text_to_word_sequence(_.decode(\"utf-8\")) for _ in train_sentences]\n",
    "    X_test = [text_to_word_sequence(_.decode(\"utf-8\")) for _ in test_sentences]\n",
    "    \n",
    "    return X_train, y_train, X_test, y_test\n",
    "\n",
    "X_train, y_train, X_test, y_test = load_data(percentage_of_sentences=10)"
   ]
  },
  {
   "cell_type": "markdown",
   "metadata": {},
   "source": [
    "Now that you have loaded the data, let's check it out!\n",
    "\n",
    "❓ **Question** ❓ You can play with the data here. In particular, `X_train` and `X_test` are lists of sentences. Let's print some of them, with their respective label stored in `y_train` and `y_test`."
   ]
  },
  {
   "cell_type": "code",
   "execution_count": 16,
   "metadata": {
    "tags": [
     "challengify"
    ]
   },
   "outputs": [
    {
     "name": "stdout",
     "output_type": "stream",
     "text": [
      "word: ['there', 'are', 'films', 'that', 'make', 'careers', 'for', 'george', 'romero', 'it', 'was', 'night', 'of', 'the', 'living', 'dead', 'for', 'kevin', 'smith', 'clerks', 'for', 'robert', 'rodriguez', 'el', 'mariachi', 'add', 'to', 'that', 'list', 'onur', \"tukel's\", 'absolutely', 'amazing', 'ding', 'a', 'ling', 'less', 'flawless', 'film', 'making', 'and', 'as', 'assured', 'and', 'as', 'professional', 'as', 'any', 'of', 'the', 'aforementioned', 'movies', 'i', \"haven't\", 'laughed', 'this', 'hard', 'since', 'i', 'saw', 'the', 'full', 'monty', 'and', 'even', 'then', 'i', \"don't\", 'think', 'i', 'laughed', 'quite', 'this', 'hard', 'so', 'to', 'speak', \"tukel's\", 'talent', 'is', 'considerable', 'ding', 'a', 'ling', 'less', 'is', 'so', 'chock', 'full', 'of', 'double', 'entendres', 'that', 'one', 'would', 'have', 'to', 'sit', 'down', 'with', 'a', 'copy', 'of', 'this', 'script', 'and', 'do', 'a', 'line', 'by', 'line', 'examination', 'of', 'it', 'to', 'fully', 'appreciate', 'the', 'uh', 'breadth', 'and', 'width', 'of', 'it', 'every', 'shot', 'is', 'beautifully', 'composed', 'a', 'clear', 'sign', 'of', 'a', 'sure', 'handed', 'director', 'and', 'the', 'performances', 'all', 'around', 'are', 'solid', \"there's\", 'none', 'of', 'the', 'over', 'the', 'top', 'scenery', 'chewing', 'one', \"might've\", 'expected', 'from', 'a', 'film', 'like', 'this', 'ding', 'a', 'ling', 'less', 'is', 'a', 'film', 'whose', 'time', 'has', 'come'] means good\n",
      "word: ['a', 'blackly', 'comic', 'tale', 'of', 'a', 'down', 'trodden', 'priest', 'nazarin', 'showcases', 'the', 'economy', 'that', 'luis', 'bunuel', 'was', 'able', 'to', 'achieve', 'in', 'being', 'able', 'to', 'tell', 'a', 'deeply', 'humanist', 'fable', 'with', 'a', 'minimum', 'of', 'fuss', 'as', 'an', 'output', 'from', 'his', 'mexican', 'era', 'of', 'film', 'making', 'it', 'was', 'an', 'invaluable', 'talent', 'to', 'possess', 'with', 'little', 'money', 'and', 'extremely', 'tight', 'schedules', 'nazarin', 'however', 'surpasses', 'many', 'of', \"bunuel's\", 'previous', 'mexican', 'films', 'in', 'terms', 'of', 'the', 'acting', 'francisco', 'rabal', 'is', 'excellent', 'narrative', 'and', 'theme', 'br', 'br', 'the', 'theme', 'interestingly', 'is', 'something', 'that', 'was', 'explored', 'again', 'in', 'viridiana', 'made', 'three', 'years', 'later', 'in', 'spain', 'it', 'concerns', 'the', \"individual's\", 'struggle', 'for', 'humanity', 'and', 'altruism', 'amongst', 'a', 'society', 'that', 'rejects', 'any', 'notion', 'of', 'virtue', 'father', 'nazarin', 'however', 'is', 'portrayed', 'more', 'sympathetically', 'than', 'sister', 'viridiana', 'whereas', 'the', 'latter', 'seems', 'to', 'choose', 'charity', 'because', 'she', 'wishes', 'to', 'atone', 'for', 'her', 'perceived', 'sins', \"nazarin's\", 'whole', 'existence', 'and', 'reason', 'for', 'being', 'seems', 'to', 'be', 'to', 'help', 'others', 'whether', 'they', 'or', 'we', 'like', 'it', 'or', 'not', 'the', \"film's\", 'last', 'scenes', 'in', 'which', 'he', 'casts', 'doubt', 'on', 'his', 'behaviour', 'and', 'in', 'a', 'split', 'second', 'has', 'to', 'choose', 'between', 'the', 'life', 'he', 'has', 'been', 'leading', 'or', 'the', 'conventional', 'life', 'that', 'is', 'expected', 'of', 'a', 'priest', 'are', 'so', 'emotional', 'because', 'they', 'concern', 'his', 'moral', 'integrity', 'and', 'we', 'are', 'never', 'quite', 'sure', 'whether', 'it', 'remains', 'intact', 'or', 'not', 'br', 'br', 'this', 'is', 'a', 'remarkable', 'film', 'and', 'i', 'would', 'urge', 'anyone', 'interested', 'in', 'classic', 'cinema', 'to', 'seek', 'it', 'out', 'it', 'is', 'one', 'of', \"bunuel's\", 'most', 'moving', 'films', 'and', 'encapsulates', 'many', 'of', 'his', 'obsessions', 'frustrated', 'desire', 'mad', 'love', 'religious', 'hypocrisy', 'etc', 'in', 'my', 'view', \"'nazarin'\", 'is', 'second', 'only', 'to', \"'the\", 'exterminating', \"angel'\", 'in', 'terms', 'of', 'his', 'mexican', 'movies', 'and', 'is', 'certainly', 'near', 'the', 'top', 'of', 'the', 'list', 'of', \"bunuel's\", 'total', 'filmic', 'output'] means good\n",
      "word: ['scary', 'movie', '1', '4', 'epic', 'movie', 'date', 'movie', 'meet', 'the', 'spartans', 'not', 'another', 'teen', 'movie', 'and', 'another', 'gay', 'movie', 'making', 'superhero', 'movie', 'the', 'eleventh', 'in', 'a', 'series', 'that', 'single', 'handily', 'ruined', 'the', 'parody', 'genre', 'now', \"i'll\", 'admit', 'it', 'i', 'have', 'a', 'soft', 'spot', 'for', 'classics', 'such', 'as', 'airplane', 'and', 'the', 'naked', 'gun', 'but', 'you', 'know', \"you've\", 'milked', 'a', 'franchise', 'so', 'bad', 'when', 'you', 'can', 'see', 'the', 'gags', 'a', 'mile', 'off', 'in', 'fact', 'the', 'only', 'thing', 'that', 'might', 'really', 'temp', 'you', 'into', 'going', 'to', 'see', 'this', 'disaster', 'is', 'the', 'incredibly', 'funny', 'but', 'massive', 'sell', 'out', 'leslie', 'neilson', 'br', 'br', 'you', 'can', 'tell', 'he', 'needs', 'the', 'money', 'wither', 'that', 'or', 'he', 'intends', 'to', 'go', 'down', 'with', 'the', 'ship', 'like', 'a', 'good', 'capitan', 'would', 'in', 'no', 'way', 'is', 'he', 'bringing', 'down', 'this', 'genre', 'but', 'hell', \"he's\", 'not', 'helping', 'it', 'but', 'if', 'i', 'feel', 'sorry', 'for', 'anybody', 'in', 'this', 'film', 'its', 'decent', 'actor', 'drake', 'bell', 'who', 'is', 'put', 'through', 'an', 'immense', 'amount', 'of', 'embarrassment', 'the', 'people', 'who', 'are', 'put', 'through', 'the', 'largest', 'amount', 'of', 'torture', 'by', 'far', 'however', 'is', 'the', 'audience', 'forced', 'to', 'sit', 'through', '90', 'minutes', 'of', 'laughless', 'bile', 'no', 'funnier', 'than', 'herpes', 'br', 'br', 'after', 'spoofing', 'disaster', 'films', 'in', 'airplane', 'police', 'shows', 'in', 'the', 'naked', 'gun', 'and', 'hollywood', 'horrors', 'in', 'scary', 'movie', '3', 'and', '4', 'producer', 'david', 'zucker', 'sets', 'his', 'satirical', 'sights', 'on', 'the', 'superhero', 'genre', 'with', 'this', 'anarchic', 'comedy', 'lampooning', 'everything', 'from', 'spider', 'man', 'to', 'x', 'men', 'and', 'superman', 'returns', 'br', 'br', 'shortly', 'after', 'being', 'bitten', 'by', 'a', 'genetically', 'altered', 'dragonfly', 'high', 'school', 'outcast', 'rick', 'riker', 'drake', 'bell', 'begins', 'to', 'experience', 'a', 'startling', 'transformation', 'now', \"rick's\", 'skin', 'is', 'as', 'strong', 'as', 'steel', 'and', 'he', 'possesses', 'the', 'strength', 'of', 'ten', 'men', 'determined', 'to', 'use', 'his', 'newfound', 'powers', 'to', 'fight', 'crime', 'rick', 'creates', 'a', 'special', 'costume', 'and', 'assumes', 'the', 'identity', 'of', 'the', 'dragonfly', 'a', 'fearless', 'crime', 'fighter', 'dedicated', 'to', 'keeping', 'the', 'streets', 'safe', 'for', 'law', 'abiding', 'citizens', 'br', 'br', 'but', 'every', 'superhero', 'needs', 'a', 'nemesis', 'and', 'after', 'lou', 'landers', 'christopher', 'mcdonald', 'is', 'caught', 'in', 'the', 'middle', 'of', 'an', 'experiment', 'gone', 'horribly', 'awry', 'he', 'develops', 'the', 'power', 'to', 'leech', 'the', 'life', 'force', 'out', 'of', 'anyone', 'he', 'meets', 'and', 'becomes', 'the', 'villainous', 'hourglass', 'intent', 'on', 'achieving', 'immortality', 'the', 'hourglass', 'attempts', 'to', 'gather', 'as', 'much', 'life', 'force', 'as', 'possible', 'as', 'the', 'noble', 'dragonfly', 'sets', 'out', 'to', 'take', 'down', 'his', 'archenemy', 'and', 'realize', 'his', 'destiny', 'as', 'a', 'true', 'hero', 'craig', 'mazin', 'writes', 'and', 'directs', 'this', 'low', 'flying', 'spoof', 'br', 'br', 'featuring', 'tracy', 'morgan', 'pamela', 'anderson', 'leslie', 'nielsen', 'marion', 'ross', 'jeffrey', 'tambor', 'and', 'regina', 'hall', 'br', 'br', 'hell', 'superhero', 'movie', 'may', 'earn', 'some', 'merit', 'in', 'the', 'fact', 'that', \"it's\", 'a', 'hell', 'of', 'a', 'lot', 'better', 'than', 'meet', 'the', 'spartans', 'and', 'epic', 'movie', 'but', 'with', 'great', 'responsibility', 'comes', 'one', 'of', 'the', 'worst', 'outings', 'of', '2008', 'to', 'date', 'laughless', 'but', 'a', 'little', 'less', 'irritating', 'than', 'meet', 'the', 'spartans', 'and', 'in', 'the', 'same', 'sense', 'much', 'more', 'forgettable', 'than', 'meet', 'the', 'spartans', 'but', 'maybe', \"that's\", 'a', 'good', 'reason', 'there', 'are', 'still', 'some', 'of', 'us', 'trying', 'to', 'scrape', 'away', 'the', 'stain', 'that', 'was', 'meet', 'the', 'spartans', 'from', 'our', 'memory', 'br', 'br', 'my', 'final', 'verdict', 'avoid', 'unless', \"you're\", 'one', 'of', 'thoses', 'people', 'who', 'enjoy', 'such', 'car', 'crash', 'cinema', 'as', 'bad', 'as', 'date', 'movie', 'and', 'scary', 'movie', '2', 'but', 'not', 'quite', 'as', 'bad', 'as', 'meet', 'the', 'spartans', 'or', 'epic', 'movie', 'super', 'villain'] means bad\n"
     ]
    }
   ],
   "source": [
    "words_X = X_test[:3]\n",
    "words_y = y_test[:3]\n",
    "\n",
    "for x, y in zip(words_X, words_y):\n",
    "    if y == 1: \n",
    "        y ='good' \n",
    "    else: \n",
    "        y='bad'\n",
    "        \n",
    "    print(f\"word: {x} means {y}\")"
   ]
  },
  {
   "cell_type": "markdown",
   "metadata": {},
   "source": [
    "**LABELS**: the task is a binary classification problem:\n",
    "- label 0️⃣ corresponds to a <font color=red>negative</font> movie review\n",
    "- label 1️⃣ corresponds to a <font color=green>positive</font> movie review\n",
    "\n",
    "**INPUTS**: \n",
    "- 🧹 The data has been partially cleaned! So you don't have to worry about it in this exercise. \n",
    "- ❗️ But don't forget this step in real-life challenges. \n",
    "\n",
    "Remember that words are not computer-compatible materials? You have to tokenize them!\n",
    "\n",
    "❓ **Question** ❓ Run the following cell to tokenize your sentences"
   ]
  },
  {
   "cell_type": "code",
   "execution_count": 82,
   "metadata": {},
   "outputs": [],
   "source": [
    "from tensorflow.keras.preprocessing.text import Tokenizer\n",
    "\n",
    "# This initializes a Keras utilities that does all the tokenization for you\n",
    "tokenizer = Tokenizer()\n",
    "\n",
    "# The tokenization learns a dictionary that maps a token (integer) to each word\n",
    "# It can be done only on the train set - we are not supposed to know the test set!\n",
    "# This tokenization also lowercases your words, apply some filters, and so on - you can check the doc if you want\n",
    "tokenizer.fit_on_texts(X_train)\n",
    "    \n",
    "# We apply the tokenization to the train and test set\n",
    "X_train_token = tokenizer.texts_to_sequences(X_train)\n",
    "X_test_token = tokenizer.texts_to_sequences(X_test)"
   ]
  },
  {
   "cell_type": "markdown",
   "metadata": {},
   "source": [
    "❓ **Question** ❓ Print some of the tokenized sentences to be sure you got what you expected"
   ]
  },
  {
   "cell_type": "code",
   "execution_count": 18,
   "metadata": {
    "tags": [
     "challengify"
    ]
   },
   "outputs": [
    {
     "name": "stdout",
     "output_type": "stream",
     "text": [
      "word: ['there', 'are', 'films', 'that', 'make', 'careers', 'for', 'george', 'romero', 'it', 'was', 'night', 'of', 'the', 'living', 'dead', 'for', 'kevin', 'smith', 'clerks', 'for', 'robert', 'rodriguez', 'el', 'mariachi', 'add', 'to', 'that', 'list', 'onur', \"tukel's\", 'absolutely', 'amazing', 'ding', 'a', 'ling', 'less', 'flawless', 'film', 'making', 'and', 'as', 'assured', 'and', 'as', 'professional', 'as', 'any', 'of', 'the', 'aforementioned', 'movies', 'i', \"haven't\", 'laughed', 'this', 'hard', 'since', 'i', 'saw', 'the', 'full', 'monty', 'and', 'even', 'then', 'i', \"don't\", 'think', 'i', 'laughed', 'quite', 'this', 'hard', 'so', 'to', 'speak', \"tukel's\", 'talent', 'is', 'considerable', 'ding', 'a', 'ling', 'less', 'is', 'so', 'chock', 'full', 'of', 'double', 'entendres', 'that', 'one', 'would', 'have', 'to', 'sit', 'down', 'with', 'a', 'copy', 'of', 'this', 'script', 'and', 'do', 'a', 'line', 'by', 'line', 'examination', 'of', 'it', 'to', 'fully', 'appreciate', 'the', 'uh', 'breadth', 'and', 'width', 'of', 'it', 'every', 'shot', 'is', 'beautifully', 'composed', 'a', 'clear', 'sign', 'of', 'a', 'sure', 'handed', 'director', 'and', 'the', 'performances', 'all', 'around', 'are', 'solid', \"there's\", 'none', 'of', 'the', 'over', 'the', 'top', 'scenery', 'chewing', 'one', \"might've\", 'expected', 'from', 'a', 'film', 'like', 'this', 'ding', 'a', 'ling', 'less', 'is', 'a', 'film', 'whose', 'time', 'has', 'come'] means good\n",
      "word: ['a', 'blackly', 'comic', 'tale', 'of', 'a', 'down', 'trodden', 'priest', 'nazarin', 'showcases', 'the', 'economy', 'that', 'luis', 'bunuel', 'was', 'able', 'to', 'achieve', 'in', 'being', 'able', 'to', 'tell', 'a', 'deeply', 'humanist', 'fable', 'with', 'a', 'minimum', 'of', 'fuss', 'as', 'an', 'output', 'from', 'his', 'mexican', 'era', 'of', 'film', 'making', 'it', 'was', 'an', 'invaluable', 'talent', 'to', 'possess', 'with', 'little', 'money', 'and', 'extremely', 'tight', 'schedules', 'nazarin', 'however', 'surpasses', 'many', 'of', \"bunuel's\", 'previous', 'mexican', 'films', 'in', 'terms', 'of', 'the', 'acting', 'francisco', 'rabal', 'is', 'excellent', 'narrative', 'and', 'theme', 'br', 'br', 'the', 'theme', 'interestingly', 'is', 'something', 'that', 'was', 'explored', 'again', 'in', 'viridiana', 'made', 'three', 'years', 'later', 'in', 'spain', 'it', 'concerns', 'the', \"individual's\", 'struggle', 'for', 'humanity', 'and', 'altruism', 'amongst', 'a', 'society', 'that', 'rejects', 'any', 'notion', 'of', 'virtue', 'father', 'nazarin', 'however', 'is', 'portrayed', 'more', 'sympathetically', 'than', 'sister', 'viridiana', 'whereas', 'the', 'latter', 'seems', 'to', 'choose', 'charity', 'because', 'she', 'wishes', 'to', 'atone', 'for', 'her', 'perceived', 'sins', \"nazarin's\", 'whole', 'existence', 'and', 'reason', 'for', 'being', 'seems', 'to', 'be', 'to', 'help', 'others', 'whether', 'they', 'or', 'we', 'like', 'it', 'or', 'not', 'the', \"film's\", 'last', 'scenes', 'in', 'which', 'he', 'casts', 'doubt', 'on', 'his', 'behaviour', 'and', 'in', 'a', 'split', 'second', 'has', 'to', 'choose', 'between', 'the', 'life', 'he', 'has', 'been', 'leading', 'or', 'the', 'conventional', 'life', 'that', 'is', 'expected', 'of', 'a', 'priest', 'are', 'so', 'emotional', 'because', 'they', 'concern', 'his', 'moral', 'integrity', 'and', 'we', 'are', 'never', 'quite', 'sure', 'whether', 'it', 'remains', 'intact', 'or', 'not', 'br', 'br', 'this', 'is', 'a', 'remarkable', 'film', 'and', 'i', 'would', 'urge', 'anyone', 'interested', 'in', 'classic', 'cinema', 'to', 'seek', 'it', 'out', 'it', 'is', 'one', 'of', \"bunuel's\", 'most', 'moving', 'films', 'and', 'encapsulates', 'many', 'of', 'his', 'obsessions', 'frustrated', 'desire', 'mad', 'love', 'religious', 'hypocrisy', 'etc', 'in', 'my', 'view', \"'nazarin'\", 'is', 'second', 'only', 'to', \"'the\", 'exterminating', \"angel'\", 'in', 'terms', 'of', 'his', 'mexican', 'movies', 'and', 'is', 'certainly', 'near', 'the', 'top', 'of', 'the', 'list', 'of', \"bunuel's\", 'total', 'filmic', 'output'] means good\n",
      "word: ['scary', 'movie', '1', '4', 'epic', 'movie', 'date', 'movie', 'meet', 'the', 'spartans', 'not', 'another', 'teen', 'movie', 'and', 'another', 'gay', 'movie', 'making', 'superhero', 'movie', 'the', 'eleventh', 'in', 'a', 'series', 'that', 'single', 'handily', 'ruined', 'the', 'parody', 'genre', 'now', \"i'll\", 'admit', 'it', 'i', 'have', 'a', 'soft', 'spot', 'for', 'classics', 'such', 'as', 'airplane', 'and', 'the', 'naked', 'gun', 'but', 'you', 'know', \"you've\", 'milked', 'a', 'franchise', 'so', 'bad', 'when', 'you', 'can', 'see', 'the', 'gags', 'a', 'mile', 'off', 'in', 'fact', 'the', 'only', 'thing', 'that', 'might', 'really', 'temp', 'you', 'into', 'going', 'to', 'see', 'this', 'disaster', 'is', 'the', 'incredibly', 'funny', 'but', 'massive', 'sell', 'out', 'leslie', 'neilson', 'br', 'br', 'you', 'can', 'tell', 'he', 'needs', 'the', 'money', 'wither', 'that', 'or', 'he', 'intends', 'to', 'go', 'down', 'with', 'the', 'ship', 'like', 'a', 'good', 'capitan', 'would', 'in', 'no', 'way', 'is', 'he', 'bringing', 'down', 'this', 'genre', 'but', 'hell', \"he's\", 'not', 'helping', 'it', 'but', 'if', 'i', 'feel', 'sorry', 'for', 'anybody', 'in', 'this', 'film', 'its', 'decent', 'actor', 'drake', 'bell', 'who', 'is', 'put', 'through', 'an', 'immense', 'amount', 'of', 'embarrassment', 'the', 'people', 'who', 'are', 'put', 'through', 'the', 'largest', 'amount', 'of', 'torture', 'by', 'far', 'however', 'is', 'the', 'audience', 'forced', 'to', 'sit', 'through', '90', 'minutes', 'of', 'laughless', 'bile', 'no', 'funnier', 'than', 'herpes', 'br', 'br', 'after', 'spoofing', 'disaster', 'films', 'in', 'airplane', 'police', 'shows', 'in', 'the', 'naked', 'gun', 'and', 'hollywood', 'horrors', 'in', 'scary', 'movie', '3', 'and', '4', 'producer', 'david', 'zucker', 'sets', 'his', 'satirical', 'sights', 'on', 'the', 'superhero', 'genre', 'with', 'this', 'anarchic', 'comedy', 'lampooning', 'everything', 'from', 'spider', 'man', 'to', 'x', 'men', 'and', 'superman', 'returns', 'br', 'br', 'shortly', 'after', 'being', 'bitten', 'by', 'a', 'genetically', 'altered', 'dragonfly', 'high', 'school', 'outcast', 'rick', 'riker', 'drake', 'bell', 'begins', 'to', 'experience', 'a', 'startling', 'transformation', 'now', \"rick's\", 'skin', 'is', 'as', 'strong', 'as', 'steel', 'and', 'he', 'possesses', 'the', 'strength', 'of', 'ten', 'men', 'determined', 'to', 'use', 'his', 'newfound', 'powers', 'to', 'fight', 'crime', 'rick', 'creates', 'a', 'special', 'costume', 'and', 'assumes', 'the', 'identity', 'of', 'the', 'dragonfly', 'a', 'fearless', 'crime', 'fighter', 'dedicated', 'to', 'keeping', 'the', 'streets', 'safe', 'for', 'law', 'abiding', 'citizens', 'br', 'br', 'but', 'every', 'superhero', 'needs', 'a', 'nemesis', 'and', 'after', 'lou', 'landers', 'christopher', 'mcdonald', 'is', 'caught', 'in', 'the', 'middle', 'of', 'an', 'experiment', 'gone', 'horribly', 'awry', 'he', 'develops', 'the', 'power', 'to', 'leech', 'the', 'life', 'force', 'out', 'of', 'anyone', 'he', 'meets', 'and', 'becomes', 'the', 'villainous', 'hourglass', 'intent', 'on', 'achieving', 'immortality', 'the', 'hourglass', 'attempts', 'to', 'gather', 'as', 'much', 'life', 'force', 'as', 'possible', 'as', 'the', 'noble', 'dragonfly', 'sets', 'out', 'to', 'take', 'down', 'his', 'archenemy', 'and', 'realize', 'his', 'destiny', 'as', 'a', 'true', 'hero', 'craig', 'mazin', 'writes', 'and', 'directs', 'this', 'low', 'flying', 'spoof', 'br', 'br', 'featuring', 'tracy', 'morgan', 'pamela', 'anderson', 'leslie', 'nielsen', 'marion', 'ross', 'jeffrey', 'tambor', 'and', 'regina', 'hall', 'br', 'br', 'hell', 'superhero', 'movie', 'may', 'earn', 'some', 'merit', 'in', 'the', 'fact', 'that', \"it's\", 'a', 'hell', 'of', 'a', 'lot', 'better', 'than', 'meet', 'the', 'spartans', 'and', 'epic', 'movie', 'but', 'with', 'great', 'responsibility', 'comes', 'one', 'of', 'the', 'worst', 'outings', 'of', '2008', 'to', 'date', 'laughless', 'but', 'a', 'little', 'less', 'irritating', 'than', 'meet', 'the', 'spartans', 'and', 'in', 'the', 'same', 'sense', 'much', 'more', 'forgettable', 'than', 'meet', 'the', 'spartans', 'but', 'maybe', \"that's\", 'a', 'good', 'reason', 'there', 'are', 'still', 'some', 'of', 'us', 'trying', 'to', 'scrape', 'away', 'the', 'stain', 'that', 'was', 'meet', 'the', 'spartans', 'from', 'our', 'memory', 'br', 'br', 'my', 'final', 'verdict', 'avoid', 'unless', \"you're\", 'one', 'of', 'thoses', 'people', 'who', 'enjoy', 'such', 'car', 'crash', 'cinema', 'as', 'bad', 'as', 'date', 'movie', 'and', 'scary', 'movie', '2', 'but', 'not', 'quite', 'as', 'bad', 'as', 'meet', 'the', 'spartans', 'or', 'epic', 'movie', 'super', 'villain'] means bad\n"
     ]
    }
   ],
   "source": [
    "words_X = X_test[:3]\n",
    "words_y = y_test[:3]\n",
    "\n",
    "for x, y in zip(words_X, words_y):\n",
    "    if y == 1: \n",
    "        y ='good' \n",
    "    else: \n",
    "        y='bad'\n",
    "        \n",
    "    print(f\"word: {x} means {y}\")"
   ]
  },
  {
   "cell_type": "markdown",
   "metadata": {},
   "source": [
    "The dictionary that maps each word to a token can be accessed with `tokenizer.word_index`\n",
    "    \n",
    "❓ **Question** ❓ Add a `vocab_size` variable that stores the number of different words (=tokens) in the train set. This is called the _size of the vocabulary_."
   ]
  },
  {
   "cell_type": "code",
   "execution_count": 21,
   "metadata": {
    "tags": [
     "challengify"
    ]
   },
   "outputs": [
    {
     "data": {
      "text/plain": [
       "30419"
      ]
     },
     "execution_count": 21,
     "metadata": {},
     "output_type": "execute_result"
    }
   ],
   "source": [
    "vocab_size = len(tokenizer.word_index)\n",
    "vocab_size"
   ]
  },
  {
   "cell_type": "markdown",
   "metadata": {},
   "source": [
    "Your `X_train_token` and `X_test_token` contain sequences of different lengths.\n",
    "\n",
    "<img src=\"padding.png\" alt='Word2Vec' width=\"700px\" />\n",
    "\n",
    "However, a neural network has to have a tensor as input. For this reason, you have to pad your data.\n",
    "\n",
    "❓ **Question** ❓  Pad your data with the `pad_sequences` function (documentation [here](https://www.tensorflow.org/api_docs/python/tf/keras/preprocessing/sequence/pad_sequences)). Do not forget about the `dtype` and `padding` keywords (but do not use `maxlen` here)."
   ]
  },
  {
   "cell_type": "code",
   "execution_count": 85,
   "metadata": {
    "tags": [
     "challengify"
    ]
   },
   "outputs": [
    {
     "data": {
      "text/plain": [
       "988"
      ]
     },
     "execution_count": 85,
     "metadata": {},
     "output_type": "execute_result"
    }
   ],
   "source": [
    "from tensorflow.keras.preprocessing.sequence import pad_sequences\n",
    "\n",
    "X_train_pad = pad_sequences(X_train_token, dtype='float32', padding='pre')\n",
    "X_test_pad = pad_sequences(X_test_token, dtype='float32', padding='pre')\n",
    "\n",
    "len(X_test_pad[0])"
   ]
  },
  {
   "cell_type": "markdown",
   "metadata": {},
   "source": [
    "# The RNN"
   ]
  },
  {
   "cell_type": "markdown",
   "metadata": {},
   "source": [
    "Let's now feed this data to a Recurrent Neural Network.\n",
    "\n",
    "❓ **Question** ❓ Write a model that has:\n",
    "- an embedding layer whose `input_dim` is the size of your vocabulary (= your `vocab_size`), and whose `output_dim` is the size of the embedding space you want to have\n",
    "- a RNN (SimpleRNN, LSTM, GRU) layer\n",
    "- a Dense layer\n",
    "- an output layer\n",
    "\n",
    "⚠️ **Warning** ⚠️ Here, you don't need a masking layer. Why? Because `layers.Embedding` has a argument to do that directly, which you have to set with `mask_zero=True`. That also means that your data **HAS TO** be padded with **0** (which is the default behavior). See the [documentation](https://www.tensorflow.org/api_docs/python/tf/keras/layers/Embedding#example_2) to understand how it **impacts** the `input_dim`.\n",
    "\n",
    "<details>\n",
    "    <summary>💡 Hint</summary>\n",
    "\n",
    "`input_dim` should equal size of vocabulary + 1\n",
    "\n",
    "</details>\n",
    "\n",
    "Compile it with the appropriate arguments"
   ]
  },
  {
   "cell_type": "code",
   "execution_count": 98,
   "metadata": {
    "tags": [
     "challengify"
    ]
   },
   "outputs": [],
   "source": [
    "from tensorflow.keras import regularizers, Sequential, layers\n",
    "from tensorflow.keras.layers import Embedding, LSTM, Dense\n",
    "\n",
    "def initialize_model():\n",
    "    \n",
    "    model = Sequential()\n",
    "    \n",
    "    model.add(layers.Embedding(\n",
    "        input_dim= vocab_size + 1,\n",
    "        input_length= 200, \n",
    "        output_dim = 1, \n",
    "        mask_zero = True\n",
    "    ))\n",
    "    model.add(LSTM(64))\n",
    "    model.add(Dense(1, activation='sigmoid'))\n",
    "    \n",
    "    model.compile(loss='binary_crossentropy', optimizer='adam', metrics=['accuracy'])\n",
    "    \n",
    "    return model"
   ]
  },
  {
   "cell_type": "markdown",
   "metadata": {},
   "source": [
    "❓ **Question** ❓ Look at the number of parameters in your RNN. "
   ]
  },
  {
   "cell_type": "code",
   "execution_count": 99,
   "metadata": {
    "tags": [
     "challengify"
    ]
   },
   "outputs": [
    {
     "name": "stdout",
     "output_type": "stream",
     "text": [
      "Model: \"sequential_9\"\n",
      "_________________________________________________________________\n",
      " Layer (type)                Output Shape              Param #   \n",
      "=================================================================\n",
      " embedding_8 (Embedding)     (None, 200, 1)            30420     \n",
      "                                                                 \n",
      " lstm_7 (LSTM)               (None, 64)                16896     \n",
      "                                                                 \n",
      " dense_7 (Dense)             (None, 1)                 65        \n",
      "                                                                 \n",
      "=================================================================\n",
      "Total params: 47381 (185.08 KB)\n",
      "Trainable params: 47381 (185.08 KB)\n",
      "Non-trainable params: 0 (0.00 Byte)\n",
      "_________________________________________________________________\n"
     ]
    }
   ],
   "source": [
    "model = initialize_model()\n",
    "model.summary()"
   ]
  },
  {
   "cell_type": "markdown",
   "metadata": {},
   "source": [
    "❓ Double-check that the number of parameters in your embedding layer is equal to the (number of words in your vocabulary + 1 for the masking value) $\\times$  the dimension of your embedding."
   ]
  },
  {
   "cell_type": "code",
   "execution_count": 100,
   "metadata": {
    "tags": [
     "challengify"
    ]
   },
   "outputs": [],
   "source": [
    "# YOUR CODE HERE"
   ]
  },
  {
   "cell_type": "markdown",
   "metadata": {},
   "source": [
    "❓ **Question** ❓ Start fitting your model with 20 epochs, with an early stopping criterion whose patience is equal to 4.\n",
    "\n",
    "⚠️ **Warning** ⚠️ You might see that it takes a lot of time! \n",
    "\n",
    "**So stop it after a couple of iterations!**"
   ]
  },
  {
   "cell_type": "code",
   "execution_count": 101,
   "metadata": {
    "tags": [
     "challengify"
    ]
   },
   "outputs": [
    {
     "name": "stdout",
     "output_type": "stream",
     "text": [
      "Epoch 1/20\n",
      "20/20 [==============================] - 25s 1s/step - loss: 0.6933 - accuracy: 0.4992 - val_loss: 0.6931 - val_accuracy: 0.4920\n",
      "Epoch 2/20\n",
      "20/20 [==============================] - 21s 1s/step - loss: 0.6921 - accuracy: 0.5504 - val_loss: 0.6909 - val_accuracy: 0.4920\n",
      "Epoch 3/20\n",
      "20/20 [==============================] - 21s 1s/step - loss: 0.6817 - accuracy: 0.5720 - val_loss: 0.6848 - val_accuracy: 0.5156\n",
      "Epoch 4/20\n",
      "20/20 [==============================] - 21s 1s/step - loss: 0.6766 - accuracy: 0.5164 - val_loss: 0.6738 - val_accuracy: 0.5460\n",
      "Epoch 5/20\n",
      "20/20 [==============================] - 21s 1s/step - loss: 0.6567 - accuracy: 0.5740 - val_loss: 0.6806 - val_accuracy: 0.4948\n",
      "Epoch 6/20\n",
      "20/20 [==============================] - 21s 1s/step - loss: 0.6074 - accuracy: 0.6368 - val_loss: 0.5674 - val_accuracy: 0.7116\n",
      "Epoch 7/20\n",
      "20/20 [==============================] - 21s 1s/step - loss: 0.4163 - accuracy: 0.8496 - val_loss: 0.5636 - val_accuracy: 0.7504\n",
      "Epoch 8/20\n",
      "20/20 [==============================] - 21s 1s/step - loss: 0.2823 - accuracy: 0.9024 - val_loss: 0.4763 - val_accuracy: 0.7980\n",
      "Epoch 9/20\n",
      "20/20 [==============================] - 21s 1s/step - loss: 0.1930 - accuracy: 0.9488 - val_loss: 0.4553 - val_accuracy: 0.7992\n",
      "Epoch 10/20\n",
      "20/20 [==============================] - 21s 1s/step - loss: 0.1349 - accuracy: 0.9648 - val_loss: 0.4479 - val_accuracy: 0.8184\n",
      "Epoch 11/20\n",
      "20/20 [==============================] - 20s 1s/step - loss: 0.1586 - accuracy: 0.9716 - val_loss: 0.6906 - val_accuracy: 0.7852\n",
      "Epoch 12/20\n",
      "20/20 [==============================] - 21s 1s/step - loss: 0.3651 - accuracy: 0.9044 - val_loss: 0.5187 - val_accuracy: 0.7736\n",
      "Epoch 13/20\n",
      "20/20 [==============================] - 20s 1s/step - loss: 0.2514 - accuracy: 0.9568 - val_loss: 0.5088 - val_accuracy: 0.7508\n",
      "Epoch 14/20\n",
      "20/20 [==============================] - 20s 1s/step - loss: 0.1053 - accuracy: 0.9736 - val_loss: 0.5431 - val_accuracy: 0.8008\n"
     ]
    }
   ],
   "source": [
    "from tensorflow.keras.callbacks import EarlyStopping\n",
    "\n",
    "es = EarlyStopping(patience=4, restore_best_weights=True)\n",
    "\n",
    "history = model.fit(\n",
    "    X_train_pad, \n",
    "    y_train, \n",
    "    batch_size=128, \n",
    "    epochs=20, \n",
    "    validation_data=(X_test_pad, y_test),\n",
    "    callbacks = [es])"
   ]
  },
  {
   "cell_type": "markdown",
   "metadata": {},
   "source": [
    "Let's not waste too much time just staring at our screen or having coffees. It is too early to start having breaks ;)\n",
    "\n",
    "❓ **Question** ❓ We will reduce the computational time. To start, let's first look at how many words there are in the different sentences of your train set (Just run the following cell)."
   ]
  },
  {
   "cell_type": "code",
   "execution_count": 102,
   "metadata": {},
   "outputs": [
    {
     "data": {
      "image/png": "[encoded data removed]",
      "text/plain": [
       "<Figure size 640x480 with 1 Axes>"
      ]
     },
     "metadata": {},
     "output_type": "display_data"
    }
   ],
   "source": [
    "import matplotlib.pyplot as plt\n",
    "%matplotlib inline\n",
    "\n",
    "def plot_hist(X):\n",
    "    len_ = [len(_) for _ in X]\n",
    "    plt.hist(len_)\n",
    "    plt.title('Histogram of the number of sentences that have a given number of words')\n",
    "    plt.show()\n",
    "    \n",
    "plot_hist(X_train)\n"
   ]
  },
  {
   "cell_type": "markdown",
   "metadata": {},
   "source": [
    "You will probably see that 90 to 95% of your sentences have less than 300 words. And very few have more than 1000.\n",
    "\n",
    "However, as you didn't use `maxlen` in your padding above, your input tensor has a dimension equal to the length of the sentence that has the maximum number of words.\n",
    "\n",
    "Now, let's look at how this affects the padding: \n",
    "\n",
    "\n",
    "<img src=\"tensor_size.png\" alt='Word2Vec' width=\"700px\" />\n",
    "\n",
    "Because of a few of very long sentences, one dimension of your tensor is equal to around 1000. However, most of the sentences with ~200 words have just padded values that are useless.\n",
    "\n",
    "So your tensor is mostly useless information, which still adds time to the training process.\n",
    "\n",
    "But what if you pad the data to a maximum length (`maxlen`) of say 200 (words)?\n",
    "- First, that would increase the convergence and you would not need to stare at your screen while waiting for the algorithm to converge\n",
    "- But in essence, do you really lose that much information? Do you think that you often need more than 200 words (up to 1000) to tell whether or not a sentence is positive of negative?\n",
    "\n",
    "❓ **Question** ❓ For all these reasons, re-do your padding using the `maxlen` keyword and retrain the model!  See how much faster it is now - without hurting the performance ;)"
   ]
  },
  {
   "cell_type": "code",
   "execution_count": 95,
   "metadata": {
    "tags": [
     "challengify"
    ]
   },
   "outputs": [],
   "source": [
    "X_train_pad = pad_sequences(X_train_token, dtype='float32', padding='pre', maxlen = 200)\n",
    "X_test_pad = pad_sequences(X_test_token, dtype='float32', padding='pre', maxlen = 200)\n",
    "\n"
   ]
  },
  {
   "cell_type": "code",
   "execution_count": 103,
   "metadata": {},
   "outputs": [
    {
     "name": "stdout",
     "output_type": "stream",
     "text": [
      "'~'   padding.png   README.md   tensor_size.png   Your-first-embedding.ipynb\r\n"
     ]
    }
   ],
   "source": [
    "! ls"
   ]
  },
  {
   "cell_type": "code",
   "execution_count": 105,
   "metadata": {},
   "outputs": [
    {
     "name": "stdout",
     "output_type": "stream",
     "text": [
      "[master 768bc1d] learned embedding\n",
      " 1 file changed, 322 insertions(+), 28 deletions(-)\n",
      "Enumerating objects: 5, done.\n",
      "Counting objects: 100% (5/5), done.\n",
      "Delta compression using up to 16 threads\n",
      "Compressing objects: 100% (3/3), done.\n",
      "Writing objects: 100% (3/3), 26.06 KiB | 13.03 MiB/s, done.\n",
      "Total 3 (delta 1), reused 0 (delta 0), pack-reused 0\n",
      "remote: Resolving deltas: 100% (1/1), completed with 1 local object.\u001b[K\n",
      "To github.com:dancinoman/data-your-first-embedding.git\n",
      "   b2584b7..768bc1d  master -> master\n"
     ]
    }
   ],
   "source": [
    "! git add  Your-first-embedding.ipynb\n",
    "! git commit -m'learned embedding'\n",
    "! git push origin master\n"
   ]
  },
  {
   "cell_type": "markdown",
   "metadata": {},
   "source": [
    "🏁 Nice, you are now able to use `Tokenizer` and `pad_sequences`\n",
    "\n",
    "💾 Don't forget to git add/commit/push your notebook...\n",
    "\n",
    "🚀 ... and move on to the next challenge!"
   ]
  }
 ],
 "metadata": {
  "kernelspec": {
   "display_name": "Python 3 (ipykernel)",
   "language": "python",
   "name": "python3"
  },
  "language_info": {
   "codemirror_mode": {
    "name": "ipython",
    "version": 3
   },
   "file_extension": ".py",
   "mimetype": "text/x-python",
   "name": "python",
   "nbconvert_exporter": "python",
   "pygments_lexer": "ipython3",
   "version": "3.10.6"
  },
  "toc": {
   "base_numbering": 1,
   "nav_menu": {},
   "number_sections": true,
   "sideBar": true,
   "skip_h1_title": false,
   "title_cell": "Table of Contents",
   "title_sidebar": "Contents",
   "toc_cell": false,
   "toc_position": {},
   "toc_section_display": true,
   "toc_window_display": false
  }
 },
 "nbformat": 4,
 "nbformat_minor": 4
}
