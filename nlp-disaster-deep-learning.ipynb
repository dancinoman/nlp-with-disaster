{
 "cells": [
  {
   "cell_type": "code",
   "execution_count": 35,
   "id": "e8c98607-ade6-4d21-8b1f-014aec0fef7a",
   "metadata": {},
   "outputs": [],
   "source": [
    "import pandas as pd\n",
    "\n",
    "#Tensor flow\n",
    "from tensorflow.keras.preprocessing.text import text_to_word_sequence\n",
    "from tensorflow.keras.preprocessing.text import Tokenizer\n",
    "from tensorflow.keras.preprocessing.sequence import pad_sequences\n",
    "from tensorflow.keras import regularizers, Sequential, layers\n",
    "from tensorflow.keras.layers import Embedding, LSTM, Dense\n",
    "from tensorflow.keras.callbacks import EarlyStopping"
   ]
  },
  {
   "cell_type": "code",
   "execution_count": 36,
   "id": "aaa8b660-c312-42d6-8eab-d678db41691f",
   "metadata": {},
   "outputs": [],
   "source": [
    "file_submission = 'data/sample_submission.csv'\n",
    "file_train_data = 'data/train.csv'\n",
    "file_test_data = 'data/test.csv'\n",
    "df_sub = pd.read_csv(file_submission)\n",
    "df_train = pd.read_csv(file_train_data)\n",
    "df_test = pd.read_csv(file_test_data)"
   ]
  },
  {
   "cell_type": "code",
   "execution_count": 37,
   "id": "e3b9701a-4d32-455f-9ac5-8de4e16a4aeb",
   "metadata": {
    "scrolled": true
   },
   "outputs": [
    {
     "data": {
      "text/html": [
       "<div>\n",
       "<style scoped>\n",
       "    .dataframe tbody tr th:only-of-type {\n",
       "        vertical-align: middle;\n",
       "    }\n",
       "\n",
       "    .dataframe tbody tr th {\n",
       "        vertical-align: top;\n",
       "    }\n",
       "\n",
       "    .dataframe thead th {\n",
       "        text-align: right;\n",
       "    }\n",
       "</style>\n",
       "<table border=\"1\" class=\"dataframe\">\n",
       "  <thead>\n",
       "    <tr style=\"text-align: right;\">\n",
       "      <th></th>\n",
       "      <th>id</th>\n",
       "      <th>keyword</th>\n",
       "      <th>location</th>\n",
       "      <th>text</th>\n",
       "      <th>target</th>\n",
       "    </tr>\n",
       "  </thead>\n",
       "  <tbody>\n",
       "    <tr>\n",
       "      <th>0</th>\n",
       "      <td>1</td>\n",
       "      <td>NaN</td>\n",
       "      <td>NaN</td>\n",
       "      <td>Our Deeds are the Reason of this #earthquake M...</td>\n",
       "      <td>1</td>\n",
       "    </tr>\n",
       "    <tr>\n",
       "      <th>1</th>\n",
       "      <td>4</td>\n",
       "      <td>NaN</td>\n",
       "      <td>NaN</td>\n",
       "      <td>Forest fire near La Ronge Sask. Canada</td>\n",
       "      <td>1</td>\n",
       "    </tr>\n",
       "    <tr>\n",
       "      <th>2</th>\n",
       "      <td>5</td>\n",
       "      <td>NaN</td>\n",
       "      <td>NaN</td>\n",
       "      <td>All residents asked to 'shelter in place' are ...</td>\n",
       "      <td>1</td>\n",
       "    </tr>\n",
       "    <tr>\n",
       "      <th>3</th>\n",
       "      <td>6</td>\n",
       "      <td>NaN</td>\n",
       "      <td>NaN</td>\n",
       "      <td>13,000 people receive #wildfires evacuation or...</td>\n",
       "      <td>1</td>\n",
       "    </tr>\n",
       "    <tr>\n",
       "      <th>4</th>\n",
       "      <td>7</td>\n",
       "      <td>NaN</td>\n",
       "      <td>NaN</td>\n",
       "      <td>Just got sent this photo from Ruby #Alaska as ...</td>\n",
       "      <td>1</td>\n",
       "    </tr>\n",
       "  </tbody>\n",
       "</table>\n",
       "</div>"
      ],
      "text/plain": [
       "   id keyword location                                               text  \\\n",
       "0   1     NaN      NaN  Our Deeds are the Reason of this #earthquake M...   \n",
       "1   4     NaN      NaN             Forest fire near La Ronge Sask. Canada   \n",
       "2   5     NaN      NaN  All residents asked to 'shelter in place' are ...   \n",
       "3   6     NaN      NaN  13,000 people receive #wildfires evacuation or...   \n",
       "4   7     NaN      NaN  Just got sent this photo from Ruby #Alaska as ...   \n",
       "\n",
       "   target  \n",
       "0       1  \n",
       "1       1  \n",
       "2       1  \n",
       "3       1  \n",
       "4       1  "
      ]
     },
     "execution_count": 37,
     "metadata": {},
     "output_type": "execute_result"
    }
   ],
   "source": [
    "df_train.head()"
   ]
  },
  {
   "cell_type": "code",
   "execution_count": 110,
   "id": "038a8176-b23f-4668-925a-cde0d37399d0",
   "metadata": {},
   "outputs": [],
   "source": [
    "# Cut percentage of train vs test\n",
    "percentage_cut = 20\n",
    "cut_test = len(df_train) * 20 // 100\n",
    "cut_train = len(df_train) - cut_test"
   ]
  },
  {
   "cell_type": "code",
   "execution_count": 111,
   "id": "885aded0-09e0-45cf-9f54-d26ddc61741a",
   "metadata": {},
   "outputs": [],
   "source": [
    "# Cut percentage of train vs test\n",
    "\n",
    "X = df_train['text']\n",
    "\n",
    "tokenizer = Tokenizer()\n",
    "\n",
    "tokenizer.fit_on_texts(X_train)\n",
    "\n",
    "X_train_token = tokenizer.texts_to_sequences(X_train)\n"
   ]
  },
  {
   "cell_type": "code",
   "execution_count": 115,
   "id": "107a7b88-257e-4d22-8473-be2b41d2e640",
   "metadata": {},
   "outputs": [],
   "source": [
    "# Padding words\n",
    "X_train_pad = pad_sequences(X_train_token, dtype='float32', padding='pre')\n",
    "\n",
    "X_train_pad = X_train_pad[:cut_train]\n",
    "X_test_pad = X_train_pad[-cut_test:]\n",
    "\n",
    "y_train = df_train['target'][:cut_train]\n",
    "y_test = df_train['target'][-cut_test:]"
   ]
  },
  {
   "cell_type": "code",
   "execution_count": 116,
   "id": "5d9d228c-46e9-4e40-a09f-7b6a42a4331a",
   "metadata": {},
   "outputs": [],
   "source": [
    "# Initialize model and define vocabulary size\n",
    "vocab_size = len(tokenizer.word_index)\n",
    "\n",
    "def initialize_model():\n",
    "    \n",
    "    model = Sequential()\n",
    "    \n",
    "    model.add(layers.Embedding(\n",
    "        input_dim= vocab_size + 1,\n",
    "        input_length= 33, \n",
    "        output_dim = 1, \n",
    "        mask_zero = True\n",
    "    ))\n",
    "    model.add(LSTM(64))\n",
    "    model.add(Dense(1, activation='sigmoid'))\n",
    "    \n",
    "    model.compile(loss='binary_crossentropy', optimizer='adam', metrics=['accuracy'])\n",
    "    \n",
    "    return model"
   ]
  },
  {
   "cell_type": "code",
   "execution_count": 117,
   "id": "abe64c93-90ae-4b1c-882f-a78b7a5ba219",
   "metadata": {},
   "outputs": [
    {
     "name": "stdout",
     "output_type": "stream",
     "text": [
      "Model: \"sequential_4\"\n",
      "_________________________________________________________________\n",
      " Layer (type)                Output Shape              Param #   \n",
      "=================================================================\n",
      " embedding_3 (Embedding)     (None, 33, 1)             19323     \n",
      "                                                                 \n",
      " lstm_3 (LSTM)               (None, 64)                16896     \n",
      "                                                                 \n",
      " dense_3 (Dense)             (None, 1)                 65        \n",
      "                                                                 \n",
      "=================================================================\n",
      "Total params: 36284 (141.73 KB)\n",
      "Trainable params: 36284 (141.73 KB)\n",
      "Non-trainable params: 0 (0.00 Byte)\n",
      "_________________________________________________________________\n"
     ]
    }
   ],
   "source": [
    "model = initialize_model()\n",
    "model.summary()"
   ]
  },
  {
   "cell_type": "code",
   "execution_count": 119,
   "id": "4617cf50-b76e-40ad-8e28-9173a44b6c6a",
   "metadata": {},
   "outputs": [
    {
     "name": "stdout",
     "output_type": "stream",
     "text": [
      "Epoch 1/20\n",
      "48/48 [==============================] - 9s 182ms/step - loss: 0.6773 - accuracy: 0.5794 - val_loss: 0.6932 - val_accuracy: 0.5342\n",
      "Epoch 2/20\n",
      "48/48 [==============================] - 9s 178ms/step - loss: 0.6742 - accuracy: 0.5794 - val_loss: 0.6925 - val_accuracy: 0.5342\n",
      "Epoch 3/20\n",
      "48/48 [==============================] - 8s 170ms/step - loss: 0.6673 - accuracy: 0.5794 - val_loss: 0.6936 - val_accuracy: 0.5342\n",
      "Epoch 4/20\n",
      "48/48 [==============================] - 9s 179ms/step - loss: 0.6364 - accuracy: 0.6170 - val_loss: 0.7712 - val_accuracy: 0.5440\n",
      "Epoch 5/20\n",
      "48/48 [==============================] - 9s 180ms/step - loss: 0.5112 - accuracy: 0.7816 - val_loss: 0.9610 - val_accuracy: 0.5493\n",
      "Epoch 6/20\n",
      "48/48 [==============================] - 9s 177ms/step - loss: 0.3593 - accuracy: 0.8539 - val_loss: 1.0752 - val_accuracy: 0.5650\n",
      "Epoch 7/20\n",
      "48/48 [==============================] - 8s 173ms/step - loss: 0.2526 - accuracy: 0.9059 - val_loss: 1.2346 - val_accuracy: 0.5598\n",
      "Epoch 8/20\n",
      "48/48 [==============================] - 8s 171ms/step - loss: 0.1898 - accuracy: 0.9355 - val_loss: 1.5993 - val_accuracy: 0.5611\n",
      "Epoch 9/20\n",
      "48/48 [==============================] - 8s 169ms/step - loss: 0.1488 - accuracy: 0.9557 - val_loss: 1.7263 - val_accuracy: 0.5683\n",
      "Epoch 10/20\n",
      "48/48 [==============================] - 8s 169ms/step - loss: 0.1115 - accuracy: 0.9652 - val_loss: 2.0205 - val_accuracy: 0.5716\n",
      "Epoch 11/20\n",
      "48/48 [==============================] - 8s 172ms/step - loss: 0.0989 - accuracy: 0.9704 - val_loss: 2.2133 - val_accuracy: 0.5710\n",
      "Epoch 12/20\n",
      "48/48 [==============================] - 8s 168ms/step - loss: 0.0888 - accuracy: 0.9732 - val_loss: 2.3142 - val_accuracy: 0.5650\n"
     ]
    }
   ],
   "source": [
    "es = EarlyStopping(patience=10, restore_best_weights=True)\n",
    "\n",
    "history = model.fit(\n",
    "    X_train_pad, \n",
    "    y_train, \n",
    "    batch_size=128, \n",
    "    epochs=20, \n",
    "    validation_data=(X_test_pad, y_test),\n",
    "    callbacks = [es])"
   ]
  },
  {
   "cell_type": "code",
   "execution_count": null,
   "id": "33b38e7d-6244-4232-b77e-e4afbe6e4f79",
   "metadata": {},
   "outputs": [],
   "source": []
  }
 ],
 "metadata": {
  "kernelspec": {
   "display_name": "Python 3 (ipykernel)",
   "language": "python",
   "name": "python3"
  },
  "language_info": {
   "codemirror_mode": {
    "name": "ipython",
    "version": 3
   },
   "file_extension": ".py",
   "mimetype": "text/x-python",
   "name": "python",
   "nbconvert_exporter": "python",
   "pygments_lexer": "ipython3",
   "version": "3.10.6"
  }
 },
 "nbformat": 4,
 "nbformat_minor": 5
}
