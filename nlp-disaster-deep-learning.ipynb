{
 "cells": [
  {
   "cell_type": "code",
   "execution_count": 1,
   "id": "e8c98607-ade6-4d21-8b1f-014aec0fef7a",
   "metadata": {},
   "outputs": [
    {
     "name": "stderr",
     "output_type": "stream",
     "text": [
      "2024-08-15 09:49:21.367901: E external/local_xla/xla/stream_executor/cuda/cuda_dnn.cc:9261] Unable to register cuDNN factory: Attempting to register factory for plugin cuDNN when one has already been registered\n",
      "2024-08-15 09:49:21.367971: E external/local_xla/xla/stream_executor/cuda/cuda_fft.cc:607] Unable to register cuFFT factory: Attempting to register factory for plugin cuFFT when one has already been registered\n",
      "2024-08-15 09:49:21.402794: E external/local_xla/xla/stream_executor/cuda/cuda_blas.cc:1515] Unable to register cuBLAS factory: Attempting to register factory for plugin cuBLAS when one has already been registered\n",
      "2024-08-15 09:49:21.489536: I tensorflow/core/platform/cpu_feature_guard.cc:182] This TensorFlow binary is optimized to use available CPU instructions in performance-critical operations.\n",
      "To enable the following instructions: AVX2 FMA, in other operations, rebuild TensorFlow with the appropriate compiler flags.\n",
      "2024-08-15 09:49:22.791493: W tensorflow/compiler/tf2tensorrt/utils/py_utils.cc:38] TF-TRT Warning: Could not find TensorRT\n"
     ]
    }
   ],
   "source": [
    "import pandas as pd\n",
    "import numpy as np\n",
    "\n",
    "#Tensor flow\n",
    "from tensorflow.keras.preprocessing.text import text_to_word_sequence\n",
    "from tensorflow.keras.preprocessing.text import Tokenizer\n",
    "from tensorflow.keras.preprocessing.sequence import pad_sequences\n",
    "from tensorflow.keras import regularizers, Sequential, layers\n",
    "from tensorflow.keras.layers import Embedding, LSTM, Dense\n",
    "from tensorflow.keras.callbacks import EarlyStopping\n",
    "import keras\n",
    "import matplotlib.pyplot  as plt"
   ]
  },
  {
   "cell_type": "code",
   "execution_count": 2,
   "id": "aaa8b660-c312-42d6-8eab-d678db41691f",
   "metadata": {},
   "outputs": [],
   "source": [
    "file_submission = 'data/sample_submission.csv'\n",
    "file_train_data = 'data/train.csv'\n",
    "file_test_data = 'data/test.csv'\n",
    "df_sub = pd.read_csv(file_submission)\n",
    "df_train = pd.read_csv(file_train_data)\n",
    "df_test = pd.read_csv(file_test_data)"
   ]
  },
  {
   "cell_type": "code",
   "execution_count": 3,
   "id": "e3b9701a-4d32-455f-9ac5-8de4e16a4aeb",
   "metadata": {
    "scrolled": true
   },
   "outputs": [
    {
     "name": "stdout",
     "output_type": "stream",
     "text": [
      "<class 'pandas.core.frame.DataFrame'>\n",
      "RangeIndex: 7613 entries, 0 to 7612\n",
      "Data columns (total 5 columns):\n",
      " #   Column    Non-Null Count  Dtype \n",
      "---  ------    --------------  ----- \n",
      " 0   id        7613 non-null   int64 \n",
      " 1   keyword   7552 non-null   object\n",
      " 2   location  5080 non-null   object\n",
      " 3   text      7613 non-null   object\n",
      " 4   target    7613 non-null   int64 \n",
      "dtypes: int64(2), object(3)\n",
      "memory usage: 297.5+ KB\n"
     ]
    }
   ],
   "source": [
    "df_train.info()"
   ]
  },
  {
   "cell_type": "code",
   "execution_count": 4,
   "id": "038a8176-b23f-4668-925a-cde0d37399d0",
   "metadata": {},
   "outputs": [],
   "source": [
    "# Cut percentage of train vs test\n",
    "percentage_cut = 20\n",
    "cut_test = len(df_train) * 20 // 100\n",
    "cut_train = len(df_train) - cut_test"
   ]
  },
  {
   "cell_type": "code",
   "execution_count": 5,
   "id": "885aded0-09e0-45cf-9f54-d26ddc61741a",
   "metadata": {},
   "outputs": [],
   "source": [
    "# Cut percentage of train vs test\n",
    "\n",
    "X = df_train['text']\n",
    "X_pred = df_test['text']\n",
    "tokenizer = Tokenizer()\n",
    "\n",
    "tokenizer.fit_on_texts(X)\n",
    "\n",
    "X_train_token = tokenizer.texts_to_sequences(X)\n",
    "X_pred_token = tokenizer.texts_to_sequences(X_pred)"
   ]
  },
  {
   "cell_type": "code",
   "execution_count": 6,
   "id": "65d99d5b-d047-4d06-a1ef-67511733d0ad",
   "metadata": {},
   "outputs": [],
   "source": [
    "def percentage_loss(token_words, padding_max)->str:\n",
    "    \"\"\"\n",
    "        Test the percentage loss after padding\n",
    "        Example: percentage_loss(X_token, 25) => 'After padding loss: 1.22%'\n",
    "    \"\"\"\n",
    "    \n",
    "    get_over_lenght = len([tok for tok in token_words if len(tok) >= padding_max])\n",
    "    percent = get_over_lenght * 100 / len(token_words)\n",
    "    \n",
    "    return f'After padding loss: {percent:.2f}%'"
   ]
  },
  {
   "cell_type": "code",
   "execution_count": 7,
   "id": "b56c58dd-ee1a-483f-a092-a87b1c448385",
   "metadata": {},
   "outputs": [
    {
     "data": {
      "image/png": "[encoded data removed]",
      "text/plain": [
       "<Figure size 640x480 with 1 Axes>"
      ]
     },
     "metadata": {},
     "output_type": "display_data"
    }
   ],
   "source": [
    "# Check the relevance of padding trading off performance\n",
    "\n",
    "X_sort = sorted(X_train_token, key=lambda x: len(x))\n",
    "plt.bar(x= np.arange(1, len(X_sort) + 1), height=[len(num) for num in X_sort], width=1)\n",
    "plt.title('Pre padding picture')\n",
    "plt.ylabel('Token lenght')\n",
    "plt.show();"
   ]
  },
  {
   "cell_type": "code",
   "execution_count": 8,
   "id": "107a7b88-257e-4d22-8473-be2b41d2e640",
   "metadata": {},
   "outputs": [],
   "source": [
    "# Padding words\n",
    "X_train_pad = pad_sequences(X_train_token, dtype='float32', padding='pre', maxlen=30)\n",
    "X_pred_pad = pad_sequences(X_pred_token, dtype='float32', padding='pre')\n",
    "\n",
    "X_train_pad = X_train_pad[:cut_train]\n",
    "X_test_pad = X_train_pad[-cut_test:]\n",
    "\n",
    "y_train = df_train['target'][:cut_train]\n",
    "y_test = df_train['target'][-cut_test:]"
   ]
  },
  {
   "cell_type": "code",
   "execution_count": 9,
   "id": "5d9d228c-46e9-4e40-a09f-7b6a42a4331a",
   "metadata": {},
   "outputs": [],
   "source": [
    "# Initialize model and define vocabulary size\n",
    "vocab_size = len(tokenizer.word_index)\n",
    "\n",
    "def initialize_model():\n",
    "\n",
    "    model = Sequential()\n",
    "    \n",
    "    model.add(layers.Embedding(\n",
    "        input_dim= vocab_size + 1,\n",
    "        input_length= 30, \n",
    "        output_dim = 1, \n",
    "        mask_zero = True\n",
    "    ))\n",
    "    model.add(LSTM(64))\n",
    "    model.add(Dense(1, activation='sigmoid'))\n",
    "\n",
    "    \n",
    "    optimizer = keras.optimizers.Adam(learning_rate=0.01)\n",
    "    model.compile(loss='binary_crossentropy', optimizer=optimizer, metrics=['accuracy'])\n",
    "    \n",
    "    return model"
   ]
  },
  {
   "cell_type": "code",
   "execution_count": 10,
   "id": "abe64c93-90ae-4b1c-882f-a78b7a5ba219",
   "metadata": {},
   "outputs": [
    {
     "name": "stderr",
     "output_type": "stream",
     "text": [
      "2024-08-15 09:49:34.568725: I external/local_xla/xla/stream_executor/cuda/cuda_executor.cc:887] could not open file to read NUMA node: /sys/bus/pci/devices/0000:26:00.0/numa_node\n",
      "Your kernel may have been built without NUMA support.\n",
      "2024-08-15 09:49:34.718953: I external/local_xla/xla/stream_executor/cuda/cuda_executor.cc:887] could not open file to read NUMA node: /sys/bus/pci/devices/0000:26:00.0/numa_node\n",
      "Your kernel may have been built without NUMA support.\n",
      "2024-08-15 09:49:34.719006: I external/local_xla/xla/stream_executor/cuda/cuda_executor.cc:887] could not open file to read NUMA node: /sys/bus/pci/devices/0000:26:00.0/numa_node\n",
      "Your kernel may have been built without NUMA support.\n",
      "2024-08-15 09:49:34.722346: I external/local_xla/xla/stream_executor/cuda/cuda_executor.cc:887] could not open file to read NUMA node: /sys/bus/pci/devices/0000:26:00.0/numa_node\n",
      "Your kernel may have been built without NUMA support.\n",
      "2024-08-15 09:49:34.722401: I external/local_xla/xla/stream_executor/cuda/cuda_executor.cc:887] could not open file to read NUMA node: /sys/bus/pci/devices/0000:26:00.0/numa_node\n",
      "Your kernel may have been built without NUMA support.\n",
      "2024-08-15 09:49:34.722432: I external/local_xla/xla/stream_executor/cuda/cuda_executor.cc:887] could not open file to read NUMA node: /sys/bus/pci/devices/0000:26:00.0/numa_node\n",
      "Your kernel may have been built without NUMA support.\n",
      "2024-08-15 09:49:34.909233: I external/local_xla/xla/stream_executor/cuda/cuda_executor.cc:887] could not open file to read NUMA node: /sys/bus/pci/devices/0000:26:00.0/numa_node\n",
      "Your kernel may have been built without NUMA support.\n",
      "2024-08-15 09:49:34.909292: I external/local_xla/xla/stream_executor/cuda/cuda_executor.cc:887] could not open file to read NUMA node: /sys/bus/pci/devices/0000:26:00.0/numa_node\n",
      "Your kernel may have been built without NUMA support.\n",
      "2024-08-15 09:49:34.909300: I tensorflow/core/common_runtime/gpu/gpu_device.cc:2022] Could not identify NUMA node of platform GPU id 0, defaulting to 0.  Your kernel may not have been built with NUMA support.\n",
      "2024-08-15 09:49:34.909340: I external/local_xla/xla/stream_executor/cuda/cuda_executor.cc:887] could not open file to read NUMA node: /sys/bus/pci/devices/0000:26:00.0/numa_node\n",
      "Your kernel may have been built without NUMA support.\n",
      "2024-08-15 09:49:34.909357: I tensorflow/core/common_runtime/gpu/gpu_device.cc:1929] Created device /job:localhost/replica:0/task:0/device:GPU:0 with 5564 MB memory:  -> device: 0, name: NVIDIA GeForce RTX 3070, pci bus id: 0000:26:00.0, compute capability: 8.6\n",
      "2024-08-15 09:49:35.299918: I external/local_tsl/tsl/platform/default/subprocess.cc:304] Start cannot spawn child process: Permission denied\n"
     ]
    },
    {
     "name": "stdout",
     "output_type": "stream",
     "text": [
      "Model: \"sequential\"\n",
      "_________________________________________________________________\n",
      " Layer (type)                Output Shape              Param #   \n",
      "=================================================================\n",
      " embedding (Embedding)       (None, 30, 1)             22701     \n",
      "                                                                 \n",
      " lstm (LSTM)                 (None, 64)                16896     \n",
      "                                                                 \n",
      " dense (Dense)               (None, 1)                 65        \n",
      "                                                                 \n",
      "=================================================================\n",
      "Total params: 39662 (154.93 KB)\n",
      "Trainable params: 39662 (154.93 KB)\n",
      "Non-trainable params: 0 (0.00 Byte)\n",
      "_________________________________________________________________\n"
     ]
    }
   ],
   "source": [
    "model = initialize_model()\n",
    "model.summary()"
   ]
  },
  {
   "cell_type": "code",
   "execution_count": 11,
   "id": "4617cf50-b76e-40ad-8e28-9173a44b6c6a",
   "metadata": {},
   "outputs": [
    {
     "name": "stdout",
     "output_type": "stream",
     "text": [
      "Epoch 1/20\n"
     ]
    },
    {
     "name": "stderr",
     "output_type": "stream",
     "text": [
      "2024-08-15 09:49:38.403102: W tensorflow/core/common_runtime/type_inference.cc:339] Type inference failed. This indicates an invalid graph that escaped type checking. Error message: INVALID_ARGUMENT: expected compatible input types, but input 1:\n",
      "type_id: TFT_OPTIONAL\n",
      "args {\n",
      "  type_id: TFT_PRODUCT\n",
      "  args {\n",
      "    type_id: TFT_TENSOR\n",
      "    args {\n",
      "      type_id: TFT_INT32\n",
      "    }\n",
      "  }\n",
      "}\n",
      " is neither a subtype nor a supertype of the combined inputs preceding it:\n",
      "type_id: TFT_OPTIONAL\n",
      "args {\n",
      "  type_id: TFT_PRODUCT\n",
      "  args {\n",
      "    type_id: TFT_TENSOR\n",
      "    args {\n",
      "      type_id: TFT_FLOAT\n",
      "    }\n",
      "  }\n",
      "}\n",
      "\n",
      "\tfor Tuple type infernce function 0\n",
      "\twhile inferring type of node 'cond_36/output/_23'\n",
      "2024-08-15 09:49:40.160345: I external/local_xla/xla/service/service.cc:168] XLA service 0x7fb27db8d2e0 initialized for platform CUDA (this does not guarantee that XLA will be used). Devices:\n",
      "2024-08-15 09:49:40.160400: I external/local_xla/xla/service/service.cc:176]   StreamExecutor device (0): NVIDIA GeForce RTX 3070, Compute Capability 8.6\n",
      "2024-08-15 09:49:40.174007: I tensorflow/compiler/mlir/tensorflow/utils/dump_mlir_util.cc:269] disabling MLIR crash reproducer, set env var `MLIR_CRASH_REPRODUCER_DIRECTORY` to enable.\n",
      "2024-08-15 09:49:40.211134: I external/local_xla/xla/stream_executor/cuda/cuda_dnn.cc:454] Loaded cuDNN version 8904\n",
      "WARNING: All log messages before absl::InitializeLog() is called are written to STDERR\n",
      "I0000 00:00:1723729780.303956    1893 device_compiler.h:186] Compiled cluster using XLA!  This line is logged at most once for the lifetime of the process.\n"
     ]
    },
    {
     "name": "stdout",
     "output_type": "stream",
     "text": [
      "48/48 [==============================] - 15s 231ms/step - loss: 0.6234 - accuracy: 0.6538 - val_loss: 0.9297 - val_accuracy: 0.5473\n",
      "Epoch 2/20\n",
      "48/48 [==============================] - 8s 175ms/step - loss: 0.3495 - accuracy: 0.8632 - val_loss: 1.0559 - val_accuracy: 0.5657\n",
      "Epoch 3/20\n",
      "48/48 [==============================] - 8s 172ms/step - loss: 0.1686 - accuracy: 0.9384 - val_loss: 2.1643 - val_accuracy: 0.5611\n",
      "Epoch 4/20\n",
      "48/48 [==============================] - 8s 175ms/step - loss: 0.0804 - accuracy: 0.9731 - val_loss: 2.8772 - val_accuracy: 0.5670\n",
      "Epoch 5/20\n",
      "48/48 [==============================] - 8s 158ms/step - loss: 0.0445 - accuracy: 0.9883 - val_loss: 2.6799 - val_accuracy: 0.5723\n"
     ]
    }
   ],
   "source": [
    "es = EarlyStopping(patience=4, restore_best_weights=True)\n",
    "\n",
    "history = model.fit(\n",
    "    X_train_pad, \n",
    "    y_train, \n",
    "    batch_size=128, \n",
    "    epochs=20, \n",
    "    validation_data=(X_test_pad, y_test),\n",
    "    callbacks = [es])"
   ]
  },
  {
   "cell_type": "code",
   "execution_count": 12,
   "id": "f2ba6167-de46-47d8-b5aa-295ea78516e0",
   "metadata": {},
   "outputs": [
    {
     "name": "stdout",
     "output_type": "stream",
     "text": [
      "102/102 [==============================] - 4s 30ms/step\n"
     ]
    }
   ],
   "source": [
    "pred_res = model.predict(X_pred_pad)"
   ]
  },
  {
   "cell_type": "code",
   "execution_count": 13,
   "id": "191fb621-ba2e-4d2d-b8d7-8f267024ffad",
   "metadata": {},
   "outputs": [
    {
     "data": {
      "text/plain": [
       "<BarContainer object of 3263 artists>"
      ]
     },
     "execution_count": 13,
     "metadata": {},
     "output_type": "execute_result"
    },
    {
     "data": {
      "image/png": "[encoded data removed]",
      "text/plain": [
       "<Figure size 640x480 with 1 Axes>"
      ]
     },
     "metadata": {},
     "output_type": "display_data"
    }
   ],
   "source": [
    "plt.bar(x= np.arange(1, len(pred_res) + 1), height= [float(res) for res in pred_res], width=1)"
   ]
  },
  {
   "cell_type": "code",
   "execution_count": 14,
   "id": "a3c5725b-8e97-4021-84ad-40d8e77eec91",
   "metadata": {},
   "outputs": [],
   "source": [
    "map_res = [1 if x > 0.5 else 0 for x in pred_res ]"
   ]
  },
  {
   "cell_type": "code",
   "execution_count": 23,
   "id": "7254456c-fec9-4f49-babe-33da5d48c132",
   "metadata": {},
   "outputs": [
    {
     "data": {
      "text/html": [
       "<div>\n",
       "<style scoped>\n",
       "    .dataframe tbody tr th:only-of-type {\n",
       "        vertical-align: middle;\n",
       "    }\n",
       "\n",
       "    .dataframe tbody tr th {\n",
       "        vertical-align: top;\n",
       "    }\n",
       "\n",
       "    .dataframe thead th {\n",
       "        text-align: right;\n",
       "    }\n",
       "</style>\n",
       "<table border=\"1\" class=\"dataframe\">\n",
       "  <thead>\n",
       "    <tr style=\"text-align: right;\">\n",
       "      <th></th>\n",
       "      <th>id</th>\n",
       "      <th>target</th>\n",
       "    </tr>\n",
       "  </thead>\n",
       "  <tbody>\n",
       "    <tr>\n",
       "      <th>0</th>\n",
       "      <td>0</td>\n",
       "      <td>0</td>\n",
       "    </tr>\n",
       "    <tr>\n",
       "      <th>1</th>\n",
       "      <td>2</td>\n",
       "      <td>0</td>\n",
       "    </tr>\n",
       "    <tr>\n",
       "      <th>2</th>\n",
       "      <td>3</td>\n",
       "      <td>0</td>\n",
       "    </tr>\n",
       "    <tr>\n",
       "      <th>3</th>\n",
       "      <td>9</td>\n",
       "      <td>0</td>\n",
       "    </tr>\n",
       "    <tr>\n",
       "      <th>4</th>\n",
       "      <td>11</td>\n",
       "      <td>0</td>\n",
       "    </tr>\n",
       "    <tr>\n",
       "      <th>...</th>\n",
       "      <td>...</td>\n",
       "      <td>...</td>\n",
       "    </tr>\n",
       "    <tr>\n",
       "      <th>3258</th>\n",
       "      <td>10861</td>\n",
       "      <td>0</td>\n",
       "    </tr>\n",
       "    <tr>\n",
       "      <th>3259</th>\n",
       "      <td>10865</td>\n",
       "      <td>0</td>\n",
       "    </tr>\n",
       "    <tr>\n",
       "      <th>3260</th>\n",
       "      <td>10868</td>\n",
       "      <td>0</td>\n",
       "    </tr>\n",
       "    <tr>\n",
       "      <th>3261</th>\n",
       "      <td>10874</td>\n",
       "      <td>0</td>\n",
       "    </tr>\n",
       "    <tr>\n",
       "      <th>3262</th>\n",
       "      <td>10875</td>\n",
       "      <td>0</td>\n",
       "    </tr>\n",
       "  </tbody>\n",
       "</table>\n",
       "<p>3263 rows × 2 columns</p>\n",
       "</div>"
      ],
      "text/plain": [
       "         id  target\n",
       "0         0       0\n",
       "1         2       0\n",
       "2         3       0\n",
       "3         9       0\n",
       "4        11       0\n",
       "...     ...     ...\n",
       "3258  10861       0\n",
       "3259  10865       0\n",
       "3260  10868       0\n",
       "3261  10874       0\n",
       "3262  10875       0\n",
       "\n",
       "[3263 rows x 2 columns]"
      ]
     },
     "execution_count": 23,
     "metadata": {},
     "output_type": "execute_result"
    }
   ],
   "source": [
    "df_sub"
   ]
  },
  {
   "cell_type": "code",
   "execution_count": 42,
   "id": "04e237d0-9ac2-43a7-8a57-61e735283184",
   "metadata": {},
   "outputs": [],
   "source": [
    "df_test['target'] = map_res\n",
    "df_submit = df_test[['id','target']]\n",
    "df_submit.to_csv('data/submit_15_08_24.csv', index= False)"
   ]
  },
  {
   "cell_type": "code",
   "execution_count": 43,
   "id": "a7fcba52-77ae-4193-b915-66f734565aa5",
   "metadata": {},
   "outputs": [
    {
     "data": {
      "text/html": [
       "<div>\n",
       "<style scoped>\n",
       "    .dataframe tbody tr th:only-of-type {\n",
       "        vertical-align: middle;\n",
       "    }\n",
       "\n",
       "    .dataframe tbody tr th {\n",
       "        vertical-align: top;\n",
       "    }\n",
       "\n",
       "    .dataframe thead th {\n",
       "        text-align: right;\n",
       "    }\n",
       "</style>\n",
       "<table border=\"1\" class=\"dataframe\">\n",
       "  <thead>\n",
       "    <tr style=\"text-align: right;\">\n",
       "      <th></th>\n",
       "      <th>id</th>\n",
       "      <th>target</th>\n",
       "    </tr>\n",
       "  </thead>\n",
       "  <tbody>\n",
       "    <tr>\n",
       "      <th>0</th>\n",
       "      <td>0</td>\n",
       "      <td>0</td>\n",
       "    </tr>\n",
       "    <tr>\n",
       "      <th>1</th>\n",
       "      <td>2</td>\n",
       "      <td>0</td>\n",
       "    </tr>\n",
       "    <tr>\n",
       "      <th>2</th>\n",
       "      <td>3</td>\n",
       "      <td>1</td>\n",
       "    </tr>\n",
       "    <tr>\n",
       "      <th>3</th>\n",
       "      <td>9</td>\n",
       "      <td>0</td>\n",
       "    </tr>\n",
       "    <tr>\n",
       "      <th>4</th>\n",
       "      <td>11</td>\n",
       "      <td>1</td>\n",
       "    </tr>\n",
       "    <tr>\n",
       "      <th>...</th>\n",
       "      <td>...</td>\n",
       "      <td>...</td>\n",
       "    </tr>\n",
       "    <tr>\n",
       "      <th>3258</th>\n",
       "      <td>10861</td>\n",
       "      <td>1</td>\n",
       "    </tr>\n",
       "    <tr>\n",
       "      <th>3259</th>\n",
       "      <td>10865</td>\n",
       "      <td>1</td>\n",
       "    </tr>\n",
       "    <tr>\n",
       "      <th>3260</th>\n",
       "      <td>10868</td>\n",
       "      <td>1</td>\n",
       "    </tr>\n",
       "    <tr>\n",
       "      <th>3261</th>\n",
       "      <td>10874</td>\n",
       "      <td>1</td>\n",
       "    </tr>\n",
       "    <tr>\n",
       "      <th>3262</th>\n",
       "      <td>10875</td>\n",
       "      <td>0</td>\n",
       "    </tr>\n",
       "  </tbody>\n",
       "</table>\n",
       "<p>3263 rows × 2 columns</p>\n",
       "</div>"
      ],
      "text/plain": [
       "         id  target\n",
       "0         0       0\n",
       "1         2       0\n",
       "2         3       1\n",
       "3         9       0\n",
       "4        11       1\n",
       "...     ...     ...\n",
       "3258  10861       1\n",
       "3259  10865       1\n",
       "3260  10868       1\n",
       "3261  10874       1\n",
       "3262  10875       0\n",
       "\n",
       "[3263 rows x 2 columns]"
      ]
     },
     "execution_count": 43,
     "metadata": {},
     "output_type": "execute_result"
    }
   ],
   "source": [
    "pd.read_csv('data/submit_15_08_24.csv')"
   ]
  },
  {
   "cell_type": "code",
   "execution_count": null,
   "id": "8309ab5e-2c83-4653-98e4-32e44402e9a3",
   "metadata": {},
   "outputs": [],
   "source": [
    "# Score was 0.7744"
   ]
  }
 ],
 "metadata": {
  "kernelspec": {
   "display_name": "Python 3 (ipykernel)",
   "language": "python",
   "name": "python3"
  },
  "language_info": {
   "codemirror_mode": {
    "name": "ipython",
    "version": 3
   },
   "file_extension": ".py",
   "mimetype": "text/x-python",
   "name": "python",
   "nbconvert_exporter": "python",
   "pygments_lexer": "ipython3",
   "version": "3.10.6"
  }
 },
 "nbformat": 4,
 "nbformat_minor": 5
}
