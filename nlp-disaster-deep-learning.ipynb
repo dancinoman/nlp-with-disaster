{
 "cells": [
  {
   "cell_type": "code",
   "execution_count": 17,
   "id": "e8c98607-ade6-4d21-8b1f-014aec0fef7a",
   "metadata": {},
   "outputs": [],
   "source": [
    "import pandas as pd\n",
    "import numpy as np\n",
    "\n",
    "#Tensor flow\n",
    "from tensorflow.keras.preprocessing.text import text_to_word_sequence\n",
    "from tensorflow.keras.preprocessing.text import Tokenizer\n",
    "from tensorflow.keras.preprocessing.sequence import pad_sequences\n",
    "from tensorflow.keras import regularizers, Sequential, layers\n",
    "from tensorflow.keras.layers import Embedding, LSTM, Dense\n",
    "from tensorflow.keras.callbacks import EarlyStopping\n",
    "import keras\n",
    "import matplotlib.pyplot  as plt"
   ]
  },
  {
   "cell_type": "code",
   "execution_count": 2,
   "id": "aaa8b660-c312-42d6-8eab-d678db41691f",
   "metadata": {},
   "outputs": [],
   "source": [
    "file_submission = 'data/sample_submission.csv'\n",
    "file_train_data = 'data/train.csv'\n",
    "file_test_data = 'data/test.csv'\n",
    "df_sub = pd.read_csv(file_submission)\n",
    "df_train = pd.read_csv(file_train_data)\n",
    "df_test = pd.read_csv(file_test_data)"
   ]
  },
  {
   "cell_type": "code",
   "execution_count": 3,
   "id": "e3b9701a-4d32-455f-9ac5-8de4e16a4aeb",
   "metadata": {
    "scrolled": true
   },
   "outputs": [
    {
     "name": "stdout",
     "output_type": "stream",
     "text": [
      "<class 'pandas.core.frame.DataFrame'>\n",
      "RangeIndex: 7613 entries, 0 to 7612\n",
      "Data columns (total 5 columns):\n",
      " #   Column    Non-Null Count  Dtype \n",
      "---  ------    --------------  ----- \n",
      " 0   id        7613 non-null   int64 \n",
      " 1   keyword   7552 non-null   object\n",
      " 2   location  5080 non-null   object\n",
      " 3   text      7613 non-null   object\n",
      " 4   target    7613 non-null   int64 \n",
      "dtypes: int64(2), object(3)\n",
      "memory usage: 297.5+ KB\n"
     ]
    }
   ],
   "source": [
    "df_train.info()"
   ]
  },
  {
   "cell_type": "code",
   "execution_count": 4,
   "id": "038a8176-b23f-4668-925a-cde0d37399d0",
   "metadata": {},
   "outputs": [],
   "source": [
    "# Cut percentage of train vs test\n",
    "percentage_cut = 20\n",
    "cut_test = len(df_train) * 20 // 100\n",
    "cut_train = len(df_train) - cut_test"
   ]
  },
  {
   "cell_type": "code",
   "execution_count": 5,
   "id": "885aded0-09e0-45cf-9f54-d26ddc61741a",
   "metadata": {},
   "outputs": [],
   "source": [
    "# Cut percentage of train vs test\n",
    "\n",
    "X = df_train['text']\n",
    "X_pred = df_test['text']\n",
    "tokenizer = Tokenizer()\n",
    "\n",
    "tokenizer.fit_on_texts(X)\n",
    "\n",
    "X_train_token = tokenizer.texts_to_sequences(X)\n",
    "X_pred_token = tokenizer.texts_to_sequences(X_pred)"
   ]
  },
  {
   "cell_type": "code",
   "execution_count": 6,
   "id": "65d99d5b-d047-4d06-a1ef-67511733d0ad",
   "metadata": {},
   "outputs": [],
   "source": [
    "def percentage_loss(token_words, padding_max)->str:\n",
    "    \"\"\"\n",
    "        Test the percentage loss after padding\n",
    "        Example: percentage_loss(X_token, 25) => 'After padding loss: 1.22%'\n",
    "    \"\"\"\n",
    "    \n",
    "    get_over_lenght = len([tok for tok in token_words if len(tok) >= padding_max])\n",
    "    percent = get_over_lenght * 100 / len(token_words)\n",
    "    \n",
    "    return f'After padding loss: {percent:.2f}%'"
   ]
  },
  {
   "cell_type": "code",
   "execution_count": 7,
   "id": "b56c58dd-ee1a-483f-a092-a87b1c448385",
   "metadata": {},
   "outputs": [
    {
     "data": {
      "image/png": "[encoded data removed]",
      "text/plain": [
       "<Figure size 640x480 with 1 Axes>"
      ]
     },
     "metadata": {},
     "output_type": "display_data"
    }
   ],
   "source": [
    "# Check the relevance of padding trading off performance\n",
    "\n",
    "X_sort = sorted(X_train_token, key=lambda x: len(x))\n",
    "plt.bar(x= np.arange(1, len(X_sort) + 1), height=[len(num) for num in X_sort], width=1)\n",
    "plt.title('Pre padding picture')\n",
    "plt.ylabel('Token lenght')\n",
    "plt.show();"
   ]
  },
  {
   "cell_type": "code",
   "execution_count": 8,
   "id": "107a7b88-257e-4d22-8473-be2b41d2e640",
   "metadata": {},
   "outputs": [],
   "source": [
    "# Padding words\n",
    "X_train_pad = pad_sequences(X_train_token, dtype='float32', padding='pre', maxlen=30)\n",
    "X_pred_pad = pad_sequences(X_pred_token, dtype='float32', padding='pre')\n",
    "\n",
    "X_train_pad = X_train_pad[:cut_train]\n",
    "X_test_pad = X_train_pad[-cut_test:]\n",
    "\n",
    "y_train = df_train['target'][:cut_train]\n",
    "y_test = df_train['target'][-cut_test:]"
   ]
  },
  {
   "cell_type": "code",
   "execution_count": 25,
   "id": "5d9d228c-46e9-4e40-a09f-7b6a42a4331a",
   "metadata": {},
   "outputs": [],
   "source": [
    "# Initialize model and define vocabulary size\n",
    "vocab_size = len(tokenizer.word_index)\n",
    "\n",
    "def initialize_model():\n",
    "\n",
    "    model = Sequential()\n",
    "    \n",
    "    model.add(layers.Embedding(\n",
    "        input_dim= vocab_size + 1,\n",
    "        input_length= 30, \n",
    "        output_dim = 1, \n",
    "        mask_zero = True\n",
    "    ))\n",
    "    model.add(LSTM(64))\n",
    "    model.add(Dense(1, activation='sigmoid'))\n",
    "\n",
    "    \n",
    "    optimizer = keras.optimizers.Adam(learning_rate=0.01)\n",
    "    model.compile(loss='binary_crossentropy', optimizer=optimizer, metrics=['accuracy'])\n",
    "    \n",
    "    return model"
   ]
  },
  {
   "cell_type": "code",
   "execution_count": 26,
   "id": "abe64c93-90ae-4b1c-882f-a78b7a5ba219",
   "metadata": {},
   "outputs": [
    {
     "name": "stdout",
     "output_type": "stream",
     "text": [
      "Model: \"sequential_5\"\n",
      "_________________________________________________________________\n",
      " Layer (type)                Output Shape              Param #   \n",
      "=================================================================\n",
      " embedding_5 (Embedding)     (None, 30, 1)             22701     \n",
      "                                                                 \n",
      " lstm_5 (LSTM)               (None, 64)                16896     \n",
      "                                                                 \n",
      " dense_5 (Dense)             (None, 1)                 65        \n",
      "                                                                 \n",
      "=================================================================\n",
      "Total params: 39662 (154.93 KB)\n",
      "Trainable params: 39662 (154.93 KB)\n",
      "Non-trainable params: 0 (0.00 Byte)\n",
      "_________________________________________________________________\n"
     ]
    }
   ],
   "source": [
    "model = initialize_model()\n",
    "model.summary()"
   ]
  },
  {
   "cell_type": "code",
   "execution_count": 27,
   "id": "4617cf50-b76e-40ad-8e28-9173a44b6c6a",
   "metadata": {},
   "outputs": [
    {
     "name": "stdout",
     "output_type": "stream",
     "text": [
      "Epoch 1/20\n",
      "48/48 [==============================] - 13s 220ms/step - loss: 0.6976 - accuracy: 0.5410 - val_loss: 0.6943 - val_accuracy: 0.5342\n",
      "Epoch 2/20\n",
      "48/48 [==============================] - 9s 187ms/step - loss: 0.6129 - accuracy: 0.6792 - val_loss: 0.7949 - val_accuracy: 0.5703\n",
      "Epoch 3/20\n",
      "48/48 [==============================] - 8s 168ms/step - loss: 0.2803 - accuracy: 0.9018 - val_loss: 1.5121 - val_accuracy: 0.5716\n",
      "Epoch 4/20\n",
      "48/48 [==============================] - 8s 171ms/step - loss: 0.1526 - accuracy: 0.9455 - val_loss: 1.9529 - val_accuracy: 0.5769\n",
      "Epoch 5/20\n",
      "48/48 [==============================] - 8s 166ms/step - loss: 0.0993 - accuracy: 0.9670 - val_loss: 2.0877 - val_accuracy: 0.5775\n"
     ]
    }
   ],
   "source": [
    "es = EarlyStopping(patience=4, restore_best_weights=True)\n",
    "\n",
    "history = model.fit(\n",
    "    X_train_pad, \n",
    "    y_train, \n",
    "    batch_size=128, \n",
    "    epochs=20, \n",
    "    validation_data=(X_test_pad, y_test),\n",
    "    callbacks = [es])"
   ]
  },
  {
   "cell_type": "code",
   "execution_count": 28,
   "id": "f2ba6167-de46-47d8-b5aa-295ea78516e0",
   "metadata": {},
   "outputs": [
    {
     "name": "stdout",
     "output_type": "stream",
     "text": [
      "102/102 [==============================] - 4s 30ms/step\n"
     ]
    }
   ],
   "source": [
    "pred_res = model.predict(X_pred_pad)"
   ]
  },
  {
   "cell_type": "code",
   "execution_count": 29,
   "id": "191fb621-ba2e-4d2d-b8d7-8f267024ffad",
   "metadata": {},
   "outputs": [
    {
     "data": {
      "text/plain": [
       "<BarContainer object of 3263 artists>"
      ]
     },
     "execution_count": 29,
     "metadata": {},
     "output_type": "execute_result"
    },
    {
     "data": {
      "image/png": "[encoded data removed]",
      "text/plain": [
       "<Figure size 640x480 with 1 Axes>"
      ]
     },
     "metadata": {},
     "output_type": "display_data"
    }
   ],
   "source": [
    "plt.bar(x= np.arange(1, len(pred_res) + 1), height= [float(res) for res in pred_res], width=1)"
   ]
  },
  {
   "cell_type": "code",
   "execution_count": 30,
   "id": "a3c5725b-8e97-4021-84ad-40d8e77eec91",
   "metadata": {},
   "outputs": [],
   "source": [
    "map_res = [1 if x > 0.5 else 0 for x in pred_res ]"
   ]
  },
  {
   "cell_type": "code",
   "execution_count": null,
   "id": "7254456c-fec9-4f49-babe-33da5d48c132",
   "metadata": {},
   "outputs": [],
   "source": []
  }
 ],
 "metadata": {
  "kernelspec": {
   "display_name": "Python 3 (ipykernel)",
   "language": "python",
   "name": "python3"
  },
  "language_info": {
   "codemirror_mode": {
    "name": "ipython",
    "version": 3
   },
   "file_extension": ".py",
   "mimetype": "text/x-python",
   "name": "python",
   "nbconvert_exporter": "python",
   "pygments_lexer": "ipython3",
   "version": "3.10.6"
  }
 },
 "nbformat": 4,
 "nbformat_minor": 5
}
